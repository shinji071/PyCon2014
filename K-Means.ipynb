{
 "metadata": {
  "name": "",
  "signature": "sha256:a2f98bdf9f0ae9df2a55b604bb7ca90b6ca21b3a77947f08af83dd1e15a73468"
 },
 "nbformat": 3,
 "nbformat_minor": 0,
 "worksheets": [
  {
   "cells": [
    {
     "cell_type": "markdown",
     "metadata": {},
     "source": [
      "#\u6559\u5e2b\u306a\u3057\u5b66\u7fd2\n",
      "\u6559\u5e2b\u306a\u3057\u5b66\u7fd2\u306f\u3001\u300c\u4f55\u3089\u304b\u306e\u5206\u985e\u306e\u57fa\u6e96\u3084\u65b9\u5411\u6027\u3092\u4e0e\u3048\u306a\u3044\u72b6\u614b\u3067\u5bfe\u8c61\u3092\u30b0\u30eb\u2015\u30d7\u5206\u3051\u3092\u3059\u308b\u4e8b\u306f\u53ef\u80fd\u306a\u306e\u304b\u300d\u3068\u3044\u3046\u554f\u3044\u306b\u7b54\u3048\u308b\u624b\u6cd5\uff08\u7b54\u3048\u308b\u305f\u3081\u306e\u5b66\u7fd2\uff09\u3067\u3042\u308b\u3002"
     ]
    },
    {
     "cell_type": "heading",
     "level": 1,
     "metadata": {},
     "source": [
      "\u57fa\u790e\u7de8\u3000- K-means -"
     ]
    },
    {
     "cell_type": "markdown",
     "metadata": {},
     "source": [
      "\u30c7\u30fc\u30bf\u306e\u6570\u3092N(1,2,...,n), \u30af\u30e9\u30b9\u30bf\u306e\u6570\u3092k(1,2,...,k)\u3068\u3057\u3066\u4e0e\u3048\u305f\u3068\u304d\u3001\u4ee5\u4e0b\u306e\u5b9a\u5f0f\u5316\u306b\u3088\u3063\u3066\u5404\u30c7\u30fc\u30bf\u3092\u30af\u30e9\u30b9\u30bf\u306b\u5272\u308a\u632f\u308b\u624b\u6cd5\u3002\n",
      "<div style=\"float: middle; margin-left: 30px; width: 450px\"><img src=\"img/objective.png\"></div>\n",
      "* \u5909\u6570  \n",
      "    * r(n,k) : \u30c7\u30fc\u30bfn\u304c\u30af\u30e9\u30b9\u30bfk\u306b\u542b\u307e\u308c\u308b\u304b\u3069\u3046\u304b\u306e0-1\u5909\u6570\n",
      "    * \u03bc(k) : \u30af\u30e9\u30b9\u30bfk\u306e\u91cd\u5fc3\n",
      "* \u5b9a\u6570\n",
      "    * x(n) : \u30c7\u30fc\u30bfn\u306e\u4f4d\u7f6e\n",
      "* \u7b97\u51fa\u65b9\u6cd5\n",
      "    * NP\u56f0\u96e3\u306a\u305f\u3081\u3001\u8fd1\u4f3c\u65b9\u6cd5\u304c\u4f7f\u308f\u308c\u308b\n",
      "        * [k-means\u306e\u8fd1\u4f3c\u89e3\u6cd5\u53ef\u8996\u5316](http://tech.nitoyon.com/ja/blog/2013/11/07/k-means/)\n",
      "    * \u9069\u5207\u306ak\u5024\u7b97\u51fa\u304c\u5fc5\u8981\n",
      "        * [Determining the number of clusters in a data set](http://en.wikipedia.org/wiki/Determining_the_number_of_clusters_in_a_data_set)"
     ]
    },
    {
     "cell_type": "heading",
     "level": 1,
     "metadata": {},
     "source": [
      "\u5b9f\u8df5\u7de8"
     ]
    },
    {
     "cell_type": "markdown",
     "metadata": {},
     "source": [
      "\u5b9f\u8df5\u7de8\u3067\u306f\u3001\u73fe\u5b9f\u306e\u30c7\u30fc\u30bf\u3092\u4f7f\u3063\u305f\u6559\u5e2b\u306a\u3057\u5b66\u7fd2\u3092\u884c\u3046\u3002  \n",
      "  1. FIFA World Cup 2014 \u5168\u8a66\u5408\u8a73\u7d30\u30c7\u30fc\u30bf  \n",
      "    "
     ]
    },
    {
     "cell_type": "heading",
     "level": 2,
     "metadata": {},
     "source": [
      "1. FIFA World Cup 2014 \uff5e\u81ea\u5206\u305f\u3061\u306e\u30b5\u30c3\u30ab\u30fc\u3068\u306f\u4f55\u3060\u3063\u305f\u306e\u304b\uff5e"
     ]
    },
    {
     "cell_type": "markdown",
     "metadata": {},
     "source": [
      "FIFA World Cup 2014\u30d6\u30e9\u30b8\u30eb\u5927\u4f1a\u3067\u306f\u3001\u6b8b\u5ff5\u306a\u304c\u3089\u65e5\u672c\u4ee3\u8868\u306f\u4e88\u9078\u6557\u9000\u3067\u3042\u3063\u305f\u3002  \n",
      "\u4e88\u9078\u4e2d\u3001\u9078\u624b\u9054\u304c\u53e3\u3005\u306b\u653e\u3063\u3066\u3044\u305f\u300c\u81ea\u5206\u305f\u3061\u306e\u30b5\u30c3\u30ab\u30fc\u300d\u3068\u3044\u3046\u8a00\u8449\u3092\u7686\u3055\u3093\u3082\u899a\u3048\u3066\u3044\u308b\u3067\u3057\u3087\u3046\u3002  \n",
      "\u81ea\u5206\u305f\u3061\u306e\u30b5\u30c3\u30ab\u30fc\u306a\u3093\u304b\u3057\u3066\u3044\u305f\u3089\u52dd\u3066\u306a\u3044\u3001\u65e5\u672c\u4eba\u306b\u306f\u5411\u304b\u306a\u3044\u30b5\u30c3\u30ab\u30fc\u3092\u3057\u3066\u3044\u308b\u3001\u3068\u3044\u3063\u305f\u5927\u4f1a\u5f8c\u306b\u6570\u591a\u304f\u4e0a\u304c\u308a\u307e\u3057\u305f\u304c\u3001\u305d\u3082\u305d\u3082\u300c\u81ea\u5206\u305f\u3061\u306e\u30b5\u30c3\u30ab\u30fc\u300d\u3068\u306f\u4f55\u3060\u3063\u305f\u306e\u3067\u3057\u3087\u3046\u304b\u3002  \n",
      "\u305d\u3093\u306a\u7591\u554f\u306b\u3001\u4ed6\u56fd\u3068\u306e\u985e\u4f3c\u6027\u3092\u8003\u616e\u3057\u3066\u6311\u3093\u3067\u307f\u307e\u3057\u3087\u3046\u3002\u52ff\u8ad6\u3001\u30af\u30e9\u30b9\u30bf\u30ea\u30f3\u30b0\u306e\u51fa\u756a\u3067\u3059\u3002  \n",
      "* \u4f7f\u7528\u30c7\u30fc\u30bf  \n",
      "    * [FIFA\u516c\u5f0f\u30da\u30fc\u30b8](http://www.fifa.com/worldcup/)\u306b\u3042\u308bFIFA WORLD CUP 2014\u306e\u5404\u56fd\u7d71\u8a08\u60c5\u5831  \n",
      "* \u56fd\u304c\u6301\u3064\u5c5e\u6027  \n",
      "    * Profile  \n",
      "    * Scoring  \n",
      "    * Attacking  \n",
      "    * Defending  \n",
      "    * Passing  \n",
      "  \n",
      "  \n",
      "<div style=\"float: middle; margin-left: 0px; width:900px\"><img src=\"img/fifa.png\"></div>"
     ]
    },
    {
     "cell_type": "heading",
     "level": 3,
     "metadata": {},
     "source": [
      "\u3068\u308a\u3042\u3048\u305a\u30d9\u30b9\u30c84\u306e\u9762\u3005\u3068\u6bd4\u3079\u3066\u307f\u308b"
     ]
    },
    {
     "cell_type": "code",
     "collapsed": false,
     "input": [
      "import pandas as pd\n",
      "from sklearn import cluster\n",
      "top4 = [\"Japan\", \"Argentina\", \"Brazil\", \"Germany\", \"Netherlands\"]\n",
      "df = pd.read_excel(\"team_info.xls\",\"ForAnalysis\").T\n",
      "summary = df.describe().T\n",
      "for team in top4:\n",
      "    summary[team] = df.ix[team]\n",
      "summary = summary[top4 + [\"mean\",\"std\",\"max\",\"min\"]]\n",
      "summary"
     ],
     "language": "python",
     "metadata": {},
     "outputs": [
      {
       "html": [
        "<div style=\"max-height:1000px;max-width:1500px;overflow:auto;\">\n",
        "<table border=\"1\" class=\"dataframe\">\n",
        "  <thead>\n",
        "    <tr style=\"text-align: right;\">\n",
        "      <th></th>\n",
        "      <th>Japan</th>\n",
        "      <th>Argentina</th>\n",
        "      <th>Brazil</th>\n",
        "      <th>Germany</th>\n",
        "      <th>Netherlands</th>\n",
        "      <th>mean</th>\n",
        "      <th>std</th>\n",
        "      <th>max</th>\n",
        "      <th>min</th>\n",
        "    </tr>\n",
        "  </thead>\n",
        "  <tbody>\n",
        "    <tr>\n",
        "      <th>distance</th>\n",
        "      <td> 105.833333</td>\n",
        "      <td> 117.414286</td>\n",
        "      <td> 106.800000</td>\n",
        "      <td> 120.900000</td>\n",
        "      <td> 118.042857</td>\n",
        "      <td> 109.704650</td>\n",
        "      <td>  7.681374</td>\n",
        "      <td> 124.200000</td>\n",
        "      <td>  95.800000</td>\n",
        "    </tr>\n",
        "    <tr>\n",
        "      <th>onegoal_per_atmpt</th>\n",
        "      <td>  23.000000</td>\n",
        "      <td>  13.100000</td>\n",
        "      <td>  10.100000</td>\n",
        "      <td>   5.400000</td>\n",
        "      <td>   6.000000</td>\n",
        "      <td>  13.437500</td>\n",
        "      <td>  7.850488</td>\n",
        "      <td>  40.000000</td>\n",
        "      <td>   4.800000</td>\n",
        "    </tr>\n",
        "    <tr>\n",
        "      <th>goals</th>\n",
        "      <td>   0.666667</td>\n",
        "      <td>   1.142857</td>\n",
        "      <td>   1.571429</td>\n",
        "      <td>   2.571429</td>\n",
        "      <td>   2.142857</td>\n",
        "      <td>   1.230060</td>\n",
        "      <td>  0.578851</td>\n",
        "      <td>   2.571429</td>\n",
        "      <td>   0.333333</td>\n",
        "    </tr>\n",
        "    <tr>\n",
        "      <th>openplay_goals%</th>\n",
        "      <td>   1.000000</td>\n",
        "      <td>   0.888889</td>\n",
        "      <td>   0.785714</td>\n",
        "      <td>   0.857143</td>\n",
        "      <td>   0.882353</td>\n",
        "      <td>   0.893719</td>\n",
        "      <td>  0.110799</td>\n",
        "      <td>   1.000000</td>\n",
        "      <td>   0.666667</td>\n",
        "    </tr>\n",
        "    <tr>\n",
        "      <th>attempts</th>\n",
        "      <td>  15.333333</td>\n",
        "      <td>  15.000000</td>\n",
        "      <td>  15.857143</td>\n",
        "      <td>  14.285714</td>\n",
        "      <td>  12.857143</td>\n",
        "      <td>  13.047917</td>\n",
        "      <td>  3.143212</td>\n",
        "      <td>  19.666667</td>\n",
        "      <td>   7.333333</td>\n",
        "    </tr>\n",
        "    <tr>\n",
        "      <th>attemptsontarget%</th>\n",
        "      <td>   0.608696</td>\n",
        "      <td>   0.600000</td>\n",
        "      <td>   0.648649</td>\n",
        "      <td>   0.710000</td>\n",
        "      <td>   0.711111</td>\n",
        "      <td>   0.580677</td>\n",
        "      <td>  0.079347</td>\n",
        "      <td>   0.711111</td>\n",
        "      <td>   0.406780</td>\n",
        "    </tr>\n",
        "    <tr>\n",
        "      <th>crosses</th>\n",
        "      <td>  19.333333</td>\n",
        "      <td>  24.857143</td>\n",
        "      <td>  22.142857</td>\n",
        "      <td>  21.142857</td>\n",
        "      <td>  17.285714</td>\n",
        "      <td>  19.323289</td>\n",
        "      <td>  4.507936</td>\n",
        "      <td>  29.500000</td>\n",
        "      <td>  12.000000</td>\n",
        "    </tr>\n",
        "    <tr>\n",
        "      <th>crosses_completed%</th>\n",
        "      <td>   0.224138</td>\n",
        "      <td>   0.189655</td>\n",
        "      <td>   0.232258</td>\n",
        "      <td>   0.270270</td>\n",
        "      <td>   0.231405</td>\n",
        "      <td>   0.232035</td>\n",
        "      <td>  0.049166</td>\n",
        "      <td>   0.350000</td>\n",
        "      <td>   0.152174</td>\n",
        "    </tr>\n",
        "    <tr>\n",
        "      <th>long_passes_complete</th>\n",
        "      <td>  38.666667</td>\n",
        "      <td>  49.857143</td>\n",
        "      <td>  45.142857</td>\n",
        "      <td>  53.857143</td>\n",
        "      <td>  60.714286</td>\n",
        "      <td>  43.835045</td>\n",
        "      <td>  8.724254</td>\n",
        "      <td>  64.000000</td>\n",
        "      <td>  28.666667</td>\n",
        "    </tr>\n",
        "    <tr>\n",
        "      <th>medium_passes_complete</th>\n",
        "      <td> 270.333333</td>\n",
        "      <td> 318.857143</td>\n",
        "      <td> 241.142857</td>\n",
        "      <td> 394.714286</td>\n",
        "      <td> 286.571429</td>\n",
        "      <td> 246.981324</td>\n",
        "      <td> 57.657596</td>\n",
        "      <td> 394.714286</td>\n",
        "      <td> 121.000000</td>\n",
        "    </tr>\n",
        "    <tr>\n",
        "      <th>short_passes_complete</th>\n",
        "      <td> 115.666667</td>\n",
        "      <td> 109.000000</td>\n",
        "      <td> 103.857143</td>\n",
        "      <td> 145.285714</td>\n",
        "      <td>  81.285714</td>\n",
        "      <td>  97.723289</td>\n",
        "      <td> 27.823308</td>\n",
        "      <td> 198.000000</td>\n",
        "      <td>  51.666667</td>\n",
        "    </tr>\n",
        "    <tr>\n",
        "      <th>dribble_into_pa</th>\n",
        "      <td>   2.000000</td>\n",
        "      <td>   4.571429</td>\n",
        "      <td>   3.714286</td>\n",
        "      <td>   4.000000</td>\n",
        "      <td>   4.428571</td>\n",
        "      <td>   2.782217</td>\n",
        "      <td>  1.314936</td>\n",
        "      <td>   6.000000</td>\n",
        "      <td>   0.666667</td>\n",
        "    </tr>\n",
        "    <tr>\n",
        "      <th>deliveries_in_pa</th>\n",
        "      <td>   0.666667</td>\n",
        "      <td>   0.714286</td>\n",
        "      <td>   1.000000</td>\n",
        "      <td>   0.285714</td>\n",
        "      <td>   1.000000</td>\n",
        "      <td>   0.766667</td>\n",
        "      <td>  0.393730</td>\n",
        "      <td>   1.666667</td>\n",
        "      <td>   0.000000</td>\n",
        "    </tr>\n",
        "    <tr>\n",
        "      <th>tackles_won%</th>\n",
        "      <td>   0.272727</td>\n",
        "      <td>   0.301724</td>\n",
        "      <td>   0.340426</td>\n",
        "      <td>   0.281818</td>\n",
        "      <td>   0.344828</td>\n",
        "      <td>   0.292757</td>\n",
        "      <td>  0.056639</td>\n",
        "      <td>   0.428571</td>\n",
        "      <td>   0.181818</td>\n",
        "    </tr>\n",
        "    <tr>\n",
        "      <th>tackles</th>\n",
        "      <td>  11.000000</td>\n",
        "      <td>  16.571429</td>\n",
        "      <td>  20.142857</td>\n",
        "      <td>  15.714286</td>\n",
        "      <td>  12.428571</td>\n",
        "      <td>  15.283036</td>\n",
        "      <td>  3.920012</td>\n",
        "      <td>  22.000000</td>\n",
        "      <td>   9.000000</td>\n",
        "    </tr>\n",
        "    <tr>\n",
        "      <th>long_passes_complete%</th>\n",
        "      <td>   0.091052</td>\n",
        "      <td>   0.104366</td>\n",
        "      <td>   0.115709</td>\n",
        "      <td>   0.090690</td>\n",
        "      <td>   0.141667</td>\n",
        "      <td>   0.115373</td>\n",
        "      <td>  0.021769</td>\n",
        "      <td>   0.167483</td>\n",
        "      <td>   0.074051</td>\n",
        "    </tr>\n",
        "    <tr>\n",
        "      <th>medium_passes_complete%</th>\n",
        "      <td>   0.636578</td>\n",
        "      <td>   0.667464</td>\n",
        "      <td>   0.618089</td>\n",
        "      <td>   0.664662</td>\n",
        "      <td>   0.668667</td>\n",
        "      <td>   0.633946</td>\n",
        "      <td>  0.027813</td>\n",
        "      <td>   0.690535</td>\n",
        "      <td>   0.566060</td>\n",
        "    </tr>\n",
        "    <tr>\n",
        "      <th>short_passes_complete%</th>\n",
        "      <td>   0.272370</td>\n",
        "      <td>   0.228170</td>\n",
        "      <td>   0.266203</td>\n",
        "      <td>   0.244648</td>\n",
        "      <td>   0.189667</td>\n",
        "      <td>   0.250681</td>\n",
        "      <td>  0.030884</td>\n",
        "      <td>   0.348796</td>\n",
        "      <td>   0.189667</td>\n",
        "    </tr>\n",
        "  </tbody>\n",
        "</table>\n",
        "</div>"
       ],
       "metadata": {},
       "output_type": "pyout",
       "prompt_number": 1,
       "text": [
        "                              Japan   Argentina      Brazil     Germany  \\\n",
        "distance                 105.833333  117.414286  106.800000  120.900000   \n",
        "onegoal_per_atmpt         23.000000   13.100000   10.100000    5.400000   \n",
        "goals                      0.666667    1.142857    1.571429    2.571429   \n",
        "openplay_goals%            1.000000    0.888889    0.785714    0.857143   \n",
        "attempts                  15.333333   15.000000   15.857143   14.285714   \n",
        "attemptsontarget%          0.608696    0.600000    0.648649    0.710000   \n",
        "crosses                   19.333333   24.857143   22.142857   21.142857   \n",
        "crosses_completed%         0.224138    0.189655    0.232258    0.270270   \n",
        "long_passes_complete      38.666667   49.857143   45.142857   53.857143   \n",
        "medium_passes_complete   270.333333  318.857143  241.142857  394.714286   \n",
        "short_passes_complete    115.666667  109.000000  103.857143  145.285714   \n",
        "dribble_into_pa            2.000000    4.571429    3.714286    4.000000   \n",
        "deliveries_in_pa           0.666667    0.714286    1.000000    0.285714   \n",
        "tackles_won%               0.272727    0.301724    0.340426    0.281818   \n",
        "tackles                   11.000000   16.571429   20.142857   15.714286   \n",
        "long_passes_complete%      0.091052    0.104366    0.115709    0.090690   \n",
        "medium_passes_complete%    0.636578    0.667464    0.618089    0.664662   \n",
        "short_passes_complete%     0.272370    0.228170    0.266203    0.244648   \n",
        "\n",
        "                         Netherlands        mean        std         max  \\\n",
        "distance                  118.042857  109.704650   7.681374  124.200000   \n",
        "onegoal_per_atmpt           6.000000   13.437500   7.850488   40.000000   \n",
        "goals                       2.142857    1.230060   0.578851    2.571429   \n",
        "openplay_goals%             0.882353    0.893719   0.110799    1.000000   \n",
        "attempts                   12.857143   13.047917   3.143212   19.666667   \n",
        "attemptsontarget%           0.711111    0.580677   0.079347    0.711111   \n",
        "crosses                    17.285714   19.323289   4.507936   29.500000   \n",
        "crosses_completed%          0.231405    0.232035   0.049166    0.350000   \n",
        "long_passes_complete       60.714286   43.835045   8.724254   64.000000   \n",
        "medium_passes_complete    286.571429  246.981324  57.657596  394.714286   \n",
        "short_passes_complete      81.285714   97.723289  27.823308  198.000000   \n",
        "dribble_into_pa             4.428571    2.782217   1.314936    6.000000   \n",
        "deliveries_in_pa            1.000000    0.766667   0.393730    1.666667   \n",
        "tackles_won%                0.344828    0.292757   0.056639    0.428571   \n",
        "tackles                    12.428571   15.283036   3.920012   22.000000   \n",
        "long_passes_complete%       0.141667    0.115373   0.021769    0.167483   \n",
        "medium_passes_complete%     0.668667    0.633946   0.027813    0.690535   \n",
        "short_passes_complete%      0.189667    0.250681   0.030884    0.348796   \n",
        "\n",
        "                                min  \n",
        "distance                  95.800000  \n",
        "onegoal_per_atmpt          4.800000  \n",
        "goals                      0.333333  \n",
        "openplay_goals%            0.666667  \n",
        "attempts                   7.333333  \n",
        "attemptsontarget%          0.406780  \n",
        "crosses                   12.000000  \n",
        "crosses_completed%         0.152174  \n",
        "long_passes_complete      28.666667  \n",
        "medium_passes_complete   121.000000  \n",
        "short_passes_complete     51.666667  \n",
        "dribble_into_pa            0.666667  \n",
        "deliveries_in_pa           0.000000  \n",
        "tackles_won%               0.181818  \n",
        "tackles                    9.000000  \n",
        "long_passes_complete%      0.074051  \n",
        "medium_passes_complete%    0.566060  \n",
        "short_passes_complete%     0.189667  "
       ]
      }
     ],
     "prompt_number": 1
    },
    {
     "cell_type": "code",
     "collapsed": false,
     "input": [
      "def draw_xxx(index):\n",
      "    plot(range(5),summary.ix[index][:5])\n",
      "    plot(range(5),[summary[\"mean\"][index] ] * 5, \"-.\")\n",
      "    xticks(range(5),summary.columns[:5])\n",
      "    xlabel(\"teams\")\n",
      "    ylabel(index)"
     ],
     "language": "python",
     "metadata": {},
     "outputs": [],
     "prompt_number": 2
    },
    {
     "cell_type": "code",
     "collapsed": false,
     "input": [
      "def draw_stacks(indexes):\n",
      "    bottom = [0 for i in range(6)]\n",
      "    place = range(6)\n",
      "    for i, index, in enumerate(indexes):\n",
      "        bar(range(6),summary.ix[index][:6],0.35,bottom, color = numpy.random.rand(3,1),label=index)\n",
      "        bottom += summary.ix[index][:6]\n",
      "    xticks(range(6),summary.columns[:6])\n",
      "    xlabel(\"teams\")\n",
      "    legend(loc='upper center', bbox_to_anchor=(0.5, -0.05),\n",
      "          fancybox=True, shadow=True, ncol=6)"
     ],
     "language": "python",
     "metadata": {},
     "outputs": [],
     "prompt_number": 3
    },
    {
     "cell_type": "code",
     "collapsed": false,
     "input": [
      "draw_xxx(\"distance\")"
     ],
     "language": "python",
     "metadata": {},
     "outputs": [
      {
       "metadata": {},
       "output_type": "display_data",
       "png": "[encoded data removed]",
       "text": [
        "<matplotlib.figure.Figure at 0x7b4b550>"
       ]
      }
     ],
     "prompt_number": 4
    },
    {
     "cell_type": "code",
     "collapsed": false,
     "input": [
      "draw_xxx(\"attempts\")"
     ],
     "language": "python",
     "metadata": {},
     "outputs": [
      {
       "metadata": {},
       "output_type": "display_data",
       "png": "[encoded data removed]",
       "text": [
        "<matplotlib.figure.Figure at 0x7bb09e8>"
       ]
      }
     ],
     "prompt_number": 5
    },
    {
     "cell_type": "code",
     "collapsed": false,
     "input": [
      "draw_xxx(\"attemptsontarget%\")"
     ],
     "language": "python",
     "metadata": {},
     "outputs": [
      {
       "metadata": {},
       "output_type": "display_data",
       "png": "[encoded data removed]",
       "text": [
        "<matplotlib.figure.Figure at 0x7e2c630>"
       ]
      }
     ],
     "prompt_number": 6
    },
    {
     "cell_type": "code",
     "collapsed": false,
     "input": [
      "draw_xxx(\"tackles\")"
     ],
     "language": "python",
     "metadata": {},
     "outputs": [
      {
       "metadata": {},
       "output_type": "display_data",
       "png": "[encoded data removed]",
       "text": [
        "<matplotlib.figure.Figure at 0x7b84080>"
       ]
      }
     ],
     "prompt_number": 7
    },
    {
     "cell_type": "code",
     "collapsed": false,
     "input": [
      "draw_xxx(\"tackles_won%\")"
     ],
     "language": "python",
     "metadata": {},
     "outputs": [
      {
       "metadata": {},
       "output_type": "display_data",
       "png": "[encoded data removed]",
       "text": [
        "<matplotlib.figure.Figure at 0x7e73208>"
       ]
      }
     ],
     "prompt_number": 8
    },
    {
     "cell_type": "code",
     "collapsed": false,
     "input": [
      "draw_xxx(\"dribble_into_pa\")"
     ],
     "language": "python",
     "metadata": {},
     "outputs": [
      {
       "metadata": {},
       "output_type": "display_data",
       "png": "[encoded data removed]",
       "text": [
        "<matplotlib.figure.Figure at 0x8222390>"
       ]
      }
     ],
     "prompt_number": 10
    },
    {
     "cell_type": "code",
     "collapsed": false,
     "input": [
      "draw_stacks([\"short_passes_complete\",\"medium_passes_complete\",\"long_passes_complete\"])"
     ],
     "language": "python",
     "metadata": {},
     "outputs": [
      {
       "metadata": {},
       "output_type": "display_data",
       "png": "[encoded data removed]",
       "text": [
        "<matplotlib.figure.Figure at 0x820b160>"
       ]
      }
     ],
     "prompt_number": 11
    },
    {
     "cell_type": "code",
     "collapsed": false,
     "input": [
      "draw_stacks([\"short_passes_complete%\",\"medium_passes_complete%\",\"long_passes_complete%\"])"
     ],
     "language": "python",
     "metadata": {},
     "outputs": [
      {
       "metadata": {},
       "output_type": "display_data",
       "png": "[encoded data removed]",
       "text": [
        "<matplotlib.figure.Figure at 0x8211320>"
       ]
      }
     ],
     "prompt_number": 12
    },
    {
     "cell_type": "markdown",
     "metadata": {},
     "source": [
      "\u3068\u3044\u3046\u4e8b\u3067\u3001\u4ed6\u30c1\u30fc\u30e0\u3068\u6bd4\u8f03\u3057\u3066\u65e5\u672c\u306f...\n",
      "* \u8d70\u3089\u3093\u3002\n",
      "    * \u3061\u306a\u307f\u306b\u30d6\u30e9\u30b8\u30eb\u3082\u8d70\u3089\u306a\u3044\n",
      "* \u30b7\u30e5\u30fc\u30c8\u6570\u306f\u591a\u3044\uff01\n",
      "    * \u304c\u3001\u7cbe\u5ea6\u306ftop4\u306b\u6bd4\u3079\u308b\u3068\u52a3\u308b...\u3002\n",
      "    * \u610f\u5916\u306b\u3082\u30c9\u30a4\u30c4\u3001\u30aa\u30e9\u30f3\u30c0\u304c\u5c11\u306a\u3044\u3002\u304c\u3001\u67a0\u5185\u306f\u591a\u3044\u3002\n",
      "    * \u30d6\u30e9\u30b8\u30eb\u3055\u3093\u3001\u7126\u3063\u3066\u305f\u306e\u304b\u3001\u30b7\u30e5\u30fc\u30c8\u306f\u591a\u3044\u304c\u67a0\u5916\u306b\u3044\u3063\u3061\u3083\u3063\u3066\u307e\u3059\u3002\n",
      "* \u731b\u7363\u6027\u304c\u8db3\u308a\u306a\u3044\u3002\uff08\u30bf\u30c3\u30af\u30eb\u5c11\u306a\u3044\u3001\u305d\u3057\u3066\u8ca0\u3051\u308b...\u3002\uff09\n",
      "    * \u305f\u307e\u306b\u767a\u63ee\u3057\u305f\u3068\u601d\u3063\u305f\u3089\u3001\u8fd4\u308a\u8a0e\u3061\u306b\u3055\u308c\u308b...\u3002\n",
      "    * \u30d6\u30e9\u30b8\u30eb\u3001\u30bf\u30c3\u30af\u30eb\u3082\u591a\u3044\u3001\u305d\u3057\u3066\u52dd\u3064\u3002\n",
      "    * \u30aa\u30e9\u30f3\u30c0\u3001\u30bf\u30c3\u30af\u30eb\u5c11\u306a\u304f\u3001\u305d\u3057\u3066\u52dd\u3064\u3002\u683c\u597d\u3044\u3044\u3002\n",
      "* Penalty Area\u5185\u306e\u7a81\u5165\u304c\u5727\u5012\u7684\u306b\u5c11\u306a\u3044...\n",
      "    * \u30a2\u30eb\u30bc\u30f3\u30c1\u30f3\u3068\u30aa\u30e9\u30f3\u30c0\u304c\u591a\u3044\u306e\u306f\u30c1\u30d3\u3068\u30cf\u30b2\u306e\u304a\u304b\u3052\u304b\uff1f\n",
      "* Penalty Area\u5185\u3067\u306e\u843d\u3061\u7740\u304d\u304c...\u306a\u3044?\n",
      "* \u65e5\u672c\u306f\u30b7\u30e7\u30fc\u30c8\u30d1\u30b9\u591a\u3057...\u3002\n",
      "    * \u30aa\u30e9\u30f3\u30c0\u3001\u30b7\u30e7\u30fc\u30c8\u30d1\u30b9\u5c11\u306a\u3057\u3001\u30ed\u30f3\u30b0\u30d1\u30b9\u591a\u3057\u3002\u5feb\u901f\u30c1\u30fc\u30e0\u3002"
     ]
    },
    {
     "cell_type": "heading",
     "level": 3,
     "metadata": {},
     "source": [
      "K-means\u306b\u639b\u3051\u3066\u307f\u308b"
     ]
    },
    {
     "cell_type": "markdown",
     "metadata": {},
     "source": [
      "\u3053\u3053\u306f...\u3001\u7686\u3055\u3093\u306b\u6559\u3048\u3066\u8cb0\u3044\u305f\u3044\u4f4d\u306a\u306e\u3067\u3059\u304c...\n",
      "* k\u5024\u306e\u6c7a\u3081\u65b9 (n = 32)\n",
      "    * Rule of thumb : k \u2252 \u221a(n/2) \u2252 4\n",
      "    * Elbow Method  \n",
      "        * \u4eca\u56de\u306f\u3053\u308c\u3067\u898b\u3066\u307f\u307e\u3057\u3087\u3046\u3002\n",
      "        * [Finding the K in K-Means](Clusteringhttp://datasciencelab.wordpress.com/2013/12/27/finding-the-k-in-k-means-clustering/)"
     ]
    },
    {
     "cell_type": "code",
     "collapsed": false,
     "input": [
      "import numpy\n",
      "import matplotlib.pyplot as plt\n",
      "from scipy.cluster.vq import whiten\n",
      "from scipy.cluster.vq import kmeans\n",
      "from scipy.spatial.distance import cdist,pdist\n",
      "import pandas as pd\n",
      "\n",
      "df = pd.read_excel(\"team_info.xls\",\"ForClustring\").T\n",
      "attrs = list([df.ix[i] for i in df.index])\n",
      "whitened = whiten(attrs)\n",
      "K_MAX = 2\n",
      "KK = range(1,K_MAX+1)\n",
      "KM = [kmeans(whitened,k,iter=100) for k in KK]\n",
      "\n",
      "centroids = [cent for (cent,var) in KM] \n",
      "D_k = [cdist(whitened, cent, 'euclidean') for cent in centroids] #(k\u6bce\u306b...)\u5404\u30c1\u30fc\u30e0\u306e\u5404\u30af\u30e9\u30b9\u30bf\u91cd\u5fc3\u304b\u3089\u306e\u8ddd\u96e2\n",
      "cIdx = [np.argmin(D,axis=1) for D in D_k] #(k\u6bce\u306b...)\u5404\u30c1\u30fc\u30e0\u304c\u6700\u3082\u8fd1\u3044\u30af\u30e9\u30b9\u30bfid\n",
      "dist = [np.min(D,axis=1) for D in D_k] #(k\u6bce\u306b...)\u5404\u30c1\u30fc\u30e0\u306e\u6700\u8fd1\u30af\u30e9\u30b9\u30bf\u91cd\u5fc3\u3068\u306e\u8ddd\u96e2(\u3067\u3044\u3044\u3088\u306d\uff1f)\n",
      "\n",
      "tot_withinss = [sum(d**2) for d in dist]  #(k\u6bce\u306b...)\u5404\u30c1\u30fc\u30e0\u306e\u6700\u8fd1\u30af\u30e9\u30b9\u30bf\u91cd\u5fc3\u3068\u306e\u8ddd\u96e2\u306e\u4e8c\u4e57\u548c\uff08\u5c0f\u3055\u3051\u308c\u3070\u5c0f\u3055\u3044\u7a0b...\u30ad\u30e5\uff01\u3063\u3068\u306a\u3063\u3066\u3044\u308b\u3002\uff09\n",
      "totss = sum(pdist(whitened)**2)/whitened.shape[0]  # \u5168\u30c1\u30fc\u30e0\u9593\u306e\u8ddd\u96e2\u4e8c\u4e57\u306e\u548c\u3092\u30c1\u30fc\u30e0\u6570\u3067\u5272\u308b\uff08\u30c1\u30fc\u30e0\u9593\u8ddd\u96e2\u4e8c\u4e57\u5024\u306e\u5e73\u5747\uff09\n",
      "betweenss = totss - tot_withinss #[\u30c1\u30fc\u30e0\u9593\u8ddd\u96e2\u4e8c\u4e57\u548c\u5e73\u5747] - [\u5404\u30c1\u30fc\u30e0\u306e\u6700\u8fd1\u30af\u30e9\u30b9\u30bf\u91cd\u5fc3\u3068\u306e\u8ddd\u96e2\u306e\u4e8c\u4e57\u548c]"
     ],
     "language": "python",
     "metadata": {},
     "outputs": [
      {
       "output_type": "stream",
       "stream": "stderr",
       "text": [
        "C:\\Python34\\lib\\site-packages\\pandas-0.14.0-py3.4-win-amd64.egg\\pandas\\io\\excel.py:626: UserWarning: Installed openpyxl is not supported at this time. Use >=1.6.1 and <2.0.0.\n",
        "  .format(openpyxl_compat.start_ver, openpyxl_compat.stop_ver))\n"
       ]
      }
     ],
     "prompt_number": 2
    },
    {
     "cell_type": "code",
     "collapsed": false,
     "input": [
      "centroids[0]"
     ],
     "language": "python",
     "metadata": {},
     "outputs": [
      {
       "metadata": {},
       "output_type": "pyout",
       "prompt_number": 8,
       "text": [
        "array([[ 14.51042989,   4.21756341,   7.43531249,   5.10490076,\n",
        "          3.56848152,   2.14971406,   3.96110561,   5.25149846]])"
       ]
      }
     ],
     "prompt_number": 8
    },
    {
     "cell_type": "code",
     "collapsed": false,
     "input": [
      "kIdx = 5\n",
      "# elbow curve\n",
      "plot(KK, betweenss/totss*100, 'b*-')\n",
      "plot(KK[kIdx], betweenss[kIdx]/totss*100, marker='o', markersize=12, \n",
      "    markeredgewidth=2, markeredgecolor='r', markerfacecolor='None')\n",
      "grid(True)\n",
      "xlabel('Number of clusters')\n",
      "ylabel('Percentage of variance explained (%)')\n",
      "title('Elbow for KMeans clustering')"
     ],
     "language": "python",
     "metadata": {},
     "outputs": [
      {
       "metadata": {},
       "output_type": "pyout",
       "prompt_number": 10,
       "text": [
        "<matplotlib.text.Text at 0x7bd5588>"
       ]
      },
      {
       "metadata": {},
       "output_type": "display_data",
       "png": "[encoded data removed]",
       "text": [
        "<matplotlib.figure.Figure at 0x7e6de48>"
       ]
      }
     ],
     "prompt_number": 10
    },
    {
     "cell_type": "code",
     "collapsed": false,
     "input": [
      "from collections import defaultdict\n",
      "k = 5\n",
      "grouped = defaultdict(list)\n",
      "for i, team in enumerate(df.index):\n",
      "    grouped[cIdx[k][i]].append(team)"
     ],
     "language": "python",
     "metadata": {},
     "outputs": [],
     "prompt_number": 11
    },
    {
     "cell_type": "code",
     "collapsed": false,
     "input": [
      "for k, v in grouped.items():\n",
      "    print(k)\n",
      "    for t in v:\n",
      "        print(t)\n",
      "    print(\"--------\")"
     ],
     "language": "python",
     "metadata": {},
     "outputs": [
      {
       "output_type": "stream",
       "stream": "stdout",
       "text": [
        "0\n",
        "Algeria\n",
        "Australia\n",
        "Colombia\n",
        "Costa Rica\n",
        "Iran\n",
        "Mexico\n",
        "Russia\n",
        "USA\n",
        "Uruguay\n",
        "--------\n",
        "1\n",
        "Bosnia and Herzegovina\n",
        "Brazil\n",
        "Greece\n",
        "Switzerland\n",
        "--------\n",
        "2\n",
        "C?te d'Ivoire\n",
        "Ecuador\n",
        "Honduras\n",
        "Nigeria\n",
        "--------\n",
        "3\n",
        "Cameroon\n",
        "England\n",
        "France\n",
        "Ghana\n",
        "Italy\n",
        "Japan\n",
        "Korea Republic\n",
        "Portugal\n",
        "--------\n",
        "4\n",
        "Argentina\n",
        "Belgium\n",
        "Chile\n",
        "Croatia\n",
        "Germany\n",
        "Netherlands\n",
        "--------\n",
        "5\n",
        "Spain\n",
        "--------\n"
       ]
      }
     ],
     "prompt_number": 12
    },
    {
     "cell_type": "code",
     "collapsed": false,
     "input": [
      "maxx = np.max(KM[k][0],axis=0)\n",
      "minn = np.min(KM[k][0],axis=0)\n",
      "def mapp(values):\n",
      "    return [((values[i] - minn[i]) / (maxx[i] - minn[i]) ) * 100 for i in range(8)]"
     ],
     "language": "python",
     "metadata": {},
     "outputs": [],
     "prompt_number": 13
    },
    {
     "cell_type": "code",
     "collapsed": false,
     "input": [
      "evaluation = []\n",
      "evaluation.append(list(map(lambda x: mapp(x), KM[k][0])))"
     ],
     "language": "python",
     "metadata": {},
     "outputs": [],
     "prompt_number": 14
    },
    {
     "cell_type": "code",
     "collapsed": false,
     "input": [
      "rcParams['figure.figsize'] = 15,5\n",
      "labels = [\"stamina\",\"activeness\",\"accuracy\",\"long-pass\",\"short-pass\",\"drible_pa\",\"savageness\",\"phisicality\"]\n",
      "bar(range(len(labels)),evaluation[0][3])\n",
      "xticks(range(len(labels)), labels)"
     ],
     "language": "python",
     "metadata": {},
     "outputs": [
      {
       "metadata": {},
       "output_type": "pyout",
       "prompt_number": 15,
       "text": [
        "([<matplotlib.axis.XTick at 0x7e6d518>,\n",
        "  <matplotlib.axis.XTick at 0x7bcd3c8>,\n",
        "  <matplotlib.axis.XTick at 0x7b4b7f0>,\n",
        "  <matplotlib.axis.XTick at 0x7eb1cc0>,\n",
        "  <matplotlib.axis.XTick at 0x7eb4710>,\n",
        "  <matplotlib.axis.XTick at 0x7eb9160>,\n",
        "  <matplotlib.axis.XTick at 0x7eb9b70>,\n",
        "  <matplotlib.axis.XTick at 0x7ebd5c0>],\n",
        " <a list of 8 Text xticklabel objects>)"
       ]
      },
      {
       "metadata": {},
       "output_type": "display_data",
       "png": "[encoded data removed]",
       "text": [
        "<matplotlib.figure.Figure at 0x7bdc358>"
       ]
      }
     ],
     "prompt_number": 15
    },
    {
     "cell_type": "code",
     "collapsed": false,
     "input": [
      "evaluation"
     ],
     "language": "python",
     "metadata": {},
     "outputs": [
      {
       "metadata": {},
       "output_type": "pyout",
       "prompt_number": 457,
       "text": [
        "[[[87.665723223595961,\n",
        "   87.999738057038044,\n",
        "   100.0,\n",
        "   63.730584948540148,\n",
        "   24.770678514531124,\n",
        "   100.0,\n",
        "   47.396528704939925,\n",
        "   28.661138126764847],\n",
        "  [82.745915884602113,\n",
        "   0.0,\n",
        "   35.328783282107857,\n",
        "   2.2879724389502716,\n",
        "   4.7308997714206544,\n",
        "   0.0,\n",
        "   100.0,\n",
        "   0.0],\n",
        "  [100.0,\n",
        "   11.184964473985788,\n",
        "   0.0,\n",
        "   100.0,\n",
        "   10.022857934473924,\n",
        "   73.484848484848499,\n",
        "   98.849748382458685,\n",
        "   0.3081824567171158],\n",
        "  [0.0,\n",
        "   39.032775613110232,\n",
        "   30.130833303478898,\n",
        "   0.0,\n",
        "   0.0,\n",
        "   8.9856902356902459,\n",
        "   67.547328061346732,\n",
        "   16.399834491833492],\n",
        "  [74.517726798748683,\n",
        "   100.0,\n",
        "   77.051663278313626,\n",
        "   4.853581923193846,\n",
        "   31.287663642030893,\n",
        "   7.1969696969696901,\n",
        "   99.299065420560765,\n",
        "   65.78127637244819],\n",
        "  [40.050399721932592,\n",
        "   85.674994269997669,\n",
        "   31.801669551533816,\n",
        "   32.789543013476539,\n",
        "   26.127311768372934,\n",
        "   8.4595959595959513,\n",
        "   22.196261682242994,\n",
        "   4.9809532738751905],\n",
        "  [11.991657977059507,\n",
        "   79.093677351756654,\n",
        "   61.373867824060305,\n",
        "   32.984960120434856,\n",
        "   5.6907351151307655,\n",
        "   99.729437229437224,\n",
        "   96.641676080928448,\n",
        "   38.704956838151723],\n",
        "  [38.47758081334721,\n",
        "   40.980976392390559,\n",
        "   95.458844035676577,\n",
        "   42.851352720640392,\n",
        "   100.0,\n",
        "   70.328282828282823,\n",
        "   0.0,\n",
        "   100.0]]]"
       ]
      }
     ],
     "prompt_number": 457
    },
    {
     "cell_type": "heading",
     "level": 1,
     "metadata": {},
     "source": [
      "\u7d50\u8ad6"
     ]
    },
    {
     "cell_type": "markdown",
     "metadata": {},
     "source": [
      "\u65e5\u672c\u306e\u30b5\u30c3\u30ab\u30fc\u3068\u306f...\n",
      "# \u65e9\u3005\u306b\u304a\u5e30\u308a\u306b\u306a\u3063\u305f\u6b27\u5dde\u5f37\u8c6a\u9054\u3068\u540c\u3058\u3088\u3046\u306a\u30b5\u30c3\u30ab\u30fc   \n",
      "    * England\n",
      "    * Italy\n",
      "    * Portugal\n",
      "* \u80fd\u529b\u7684\u306b...\n",
      "    * \u3042\u307e\u308a\u8d70\u3089\u306a\u3044\n",
      "    * \u7a4d\u6975\u6027\u306f\u51c4\u3044\uff01\u304c\u3001\u7cbe\u5ea6\u304c\u5168\u7136\u7121\u3044...\u3002\n",
      "    * \u30d1\u30b9\u6570\u306f\u307e\u3042\u307e\u3042\u3002\u610f\u5916\u306b\u30ed\u30f3\u30b0\u30d1\u30b9\u3082\u7d50\u69cb\u3059\u308b\u3002\n",
      "    * \u30d5\u30a3\u30b8\u30ab\u30eb\u306f\u3084\u306f\u308a\u5f31\u3081\u3067\u3059"
     ]
    },
    {
     "cell_type": "heading",
     "level": 1,
     "metadata": {},
     "source": [
      "\u66f4\u306a\u308b\u7d50\u8ad6"
     ]
    },
    {
     "cell_type": "markdown",
     "metadata": {},
     "source": [
      "\u79c1\u306f\u6a5f\u68b0\u5b66\u7fd2\u3082\u30b5\u30c3\u30ab\u30fc\u3082\u52c9\u5f37\u4e0d\u8db3\u3067\u3075...\u3002"
     ]
    },
    {
     "cell_type": "code",
     "collapsed": false,
     "input": [],
     "language": "python",
     "metadata": {},
     "outputs": []
    }
   ],
   "metadata": {}
  }
 ]
}