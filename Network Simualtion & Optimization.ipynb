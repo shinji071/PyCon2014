{
 "metadata": {
  "name": "",
  "signature": "sha256:a1999339781820b62f0e24e4960233d722788bcb316749a4f28edd2a0fbff585"
 },
 "nbformat": 3,
 "nbformat_minor": 0,
 "worksheets": [
  {
   "cells": [
    {
     "cell_type": "heading",
     "level": 1,
     "metadata": {},
     "source": [
      "Network Simulation&Optimization Example"
     ]
    },
    {
     "cell_type": "code",
     "collapsed": false,
     "input": [
      "from pulp import *\n",
      "import networkx as nx\n",
      "from numpy.random import *\n",
      "import simpy\n",
      "\n",
      "def clear_weight(G):\n",
      "    for n1 in G.nodes():\n",
      "        for n2 in G.nodes():\n",
      "            if n1 == n2:\n",
      "                continue\n",
      "            dist = np.sqrt((n1.pos[1]-n2.pos[1])**2+(n1.pos[0]-n2.pos[0])**2)\n",
      "            if dist <= 1:\n",
      "                G[n1][n2][\"weight\"] = 0"
     ],
     "language": "python",
     "metadata": {},
     "outputs": [],
     "prompt_number": 1
    },
    {
     "cell_type": "heading",
     "level": 3,
     "metadata": {},
     "source": [
      "Parameter Settings"
     ]
    },
    {
     "cell_type": "code",
     "collapsed": false,
     "input": [
      "CAPACITY =100\n",
      "GRID = 4\n",
      "BAND_WIDTH = 30\n",
      "KTH = 15\n",
      "TIME = 300\n",
      "NUM_DEMAND = 300\n",
      "START_TIME = randint(0, TIME,NUM_DEMAND)\n",
      "END_TIME = START_TIME + 30\n",
      "TIMED = zip(START_TIME, END_TIME)\n",
      "TIMED = list(TIMED)"
     ],
     "language": "python",
     "metadata": {},
     "outputs": [],
     "prompt_number": 5
    },
    {
     "cell_type": "heading",
     "level": 3,
     "metadata": {},
     "source": [
      "Router Class"
     ]
    },
    {
     "cell_type": "code",
     "collapsed": false,
     "input": [
      "class Rooter(object):\n",
      "    def __init__(self, pos):\n",
      "        self.pos = pos"
     ],
     "language": "python",
     "metadata": {},
     "outputs": [],
     "prompt_number": 6
    },
    {
     "cell_type": "heading",
     "level": 3,
     "metadata": {},
     "source": [
      "Graph Creation"
     ]
    },
    {
     "cell_type": "code",
     "collapsed": false,
     "input": [
      "from collections import defaultdict\n",
      "G = nx.DiGraph()\n",
      "nodes = [[0 for i in range(GRID)] for k in range(GRID)]\n",
      "for y in range(GRID):\n",
      "    for x in range(GRID):\n",
      "        nodes[x][y] = Rooter((x,y))\n",
      "        G.add_node(nodes[x][y])\n",
      "        \n",
      "for n1 in G.nodes():\n",
      "    for n2 in G.nodes():\n",
      "        if n1 == n2:\n",
      "            continue\n",
      "        dist = np.sqrt((n1.pos[1]-n2.pos[1])**2+(n1.pos[0]-n2.pos[0])**2)\n",
      "        if dist <= 1:\n",
      "            G.add_edge(n1, n2,weight=0)\n",
      "EDGES = []\n",
      "for n in G.nodes():\n",
      "    if n.pos[0] == 0:\n",
      "        EDGES.append(n)\n",
      "        continue\n",
      "    if n.pos[1] == 0:\n",
      "        EDGES.append(n)\n",
      "        continue\n",
      "    if n.pos[0] == GRID -1:\n",
      "        EDGES.append(n)\n",
      "        continue\n",
      "    if n.pos[1] == GRID -1:\n",
      "        EDGES.append(n)\n",
      "pos = {}\n",
      "labels = {}\n",
      "for n in G.nodes():\n",
      "    pos[n] = n.pos\n",
      "    labels[n] = n.pos\n",
      "nx.draw_networkx_labels(G,pos,labels)\n",
      "nx.draw(G,with_labels=False,pos=pos)\n",
      "print(len(G.edges()))\n",
      "\n",
      "shortest_paths = defaultdict(list)\n",
      "for n1 in EDGES:\n",
      "    for n2 in EDGES:\n",
      "        if n1 == n2:\n",
      "            continue\n",
      "        shortest_paths[(n1,n2)] = list(nx.all_simple_paths(G,source=n1,target=n2,cutoff=6))\n",
      "        shortest_paths[(n1,n2)].sort(key=len)"
     ],
     "language": "python",
     "metadata": {},
     "outputs": [
      {
       "output_type": "stream",
       "stream": "stdout",
       "text": [
        "48\n"
       ]
      },
      {
       "metadata": {},
       "output_type": "display_data",
       "png": "[encoded data removed]",
       "text": [
        "<matplotlib.figure.Figure at 0x7491278>"
       ]
      }
     ],
     "prompt_number": 7
    },
    {
     "cell_type": "heading",
     "level": 3,
     "metadata": {},
     "source": [
      "Demand Class"
     ]
    },
    {
     "cell_type": "code",
     "collapsed": false,
     "input": [
      "class Demand(object):\n",
      "    def __init__(self, idd,time, frnd, tond, band_width,env,status,numk):\n",
      "        self.numk = numk\n",
      "        self.idd = idd\n",
      "        self.frnd = frnd\n",
      "        self.tond = tond\n",
      "        self.band_width = band_width\n",
      "        self.time = time\n",
      "        self.status = status\n",
      "        self.path = []\n",
      "        self.env = env\n",
      "        self.action = env.process(self.run())\n",
      "        \n",
      "    def run(self):\n",
      "        while True:\n",
      "            yield self.env.timeout(self.time[0])\n",
      "            judge = False\n",
      "            for k in range(self.numk):\n",
      "                if k > len(shortest_paths[(self.frnd,self.tond)])-1:\n",
      "                    break\n",
      "                if judge:\n",
      "                    break\n",
      "                self.path = shortest_paths[(self.frnd,self.tond)][k]\n",
      "                for i in range(len(self.path)-1):\n",
      "                    judge = True\n",
      "                    if (G.edge[self.path[i]][self.path[i+1]][\"weight\"] + self.band_width) > CAPACITY:\n",
      "                        judge = False\n",
      "                        break\n",
      "            if judge:\n",
      "                self.status = \"OK\"\n",
      "            else:\n",
      "                self.status = \"NG\"\n",
      "                return\n",
      "            for i in range(len(self.path)-1):\n",
      "                G.edge[self.path[i]][self.path[i+1]][\"weight\"] += self.band_width\n",
      "            \n",
      "            yield self.env.timeout(self.time[1] - self.time[0])\n",
      "            for i in range(len(self.path)-1):\n",
      "                G.edge[self.path[i]][self.path[i+1]][\"weight\"] -= self.band_width\n",
      "            \n",
      "            #print('User arrived at %d' % self.env.now)"
     ],
     "language": "python",
     "metadata": {},
     "outputs": [],
     "prompt_number": 8
    },
    {
     "cell_type": "heading",
     "level": 3,
     "metadata": {},
     "source": [
      "Demand Creation"
     ]
    },
    {
     "cell_type": "code",
     "collapsed": false,
     "input": [
      "np.random.seed = 0\n",
      "PAIR = []\n",
      "for i in range(NUM_DEMAND):\n",
      "    PAIR.append(np.random.choice(EDGES,2,replace=False))\n",
      "env = simpy.Environment()\n",
      "DEMAND = []\n",
      "for i, a in enumerate(PAIR):\n",
      "    DEMAND.append(Demand(i,TIMED[i], a[0],a[1], BAND_WIDTH,env,\"PENDING\",10))"
     ],
     "language": "python",
     "metadata": {},
     "outputs": [],
     "prompt_number": 6
    },
    {
     "cell_type": "heading",
     "level": 3,
     "metadata": {},
     "source": [
      "Optimization"
     ]
    },
    {
     "cell_type": "code",
     "collapsed": false,
     "input": [
      "time_weight = {e : [0 for t in range(TIME+60)] for e in G.edges()}\n",
      "prob = LpProblem(\"opt\",LpMaximize)\n",
      "x = [[LpVariable(\"%d_%d\" % (i,j), cat = LpBinary) for j in range(len(shortest_paths[(DEMAND[i].frnd,DEMAND[i].tond)]))] \\\n",
      "     for i in range(len(DEMAND))]\n",
      "prob += lpSum(x)\n",
      "for i, d in enumerate(DEMAND):\n",
      "    for j in range(len(shortest_paths[(DEMAND[i].frnd,DEMAND[i].tond)])):\n",
      "        prob += lpSum(x[i]) <= 1\n",
      "\n",
      "for i,d in enumerate(DEMAND):\n",
      "    for j, path in enumerate(shortest_paths[(d.frnd,d.tond)]):\n",
      "        for pp in range(len(path)-1):\n",
      "            for t in range(d.time[0], d.time[1]):\n",
      "                time_weight[(path[pp],path[pp+1])][t] += d.band_width * x[i][j]\n",
      "for key,value in time_weight.items():\n",
      "    for v in value:\n",
      "        prob += v <= CAPACITY\n",
      "print(\"Start Solving\")\n",
      "status = prob.solve()\n",
      "print(status)"
     ],
     "language": "python",
     "metadata": {},
     "outputs": [
      {
       "output_type": "stream",
       "stream": "stdout",
       "text": [
        "Start Solving\n",
        "1"
       ]
      },
      {
       "output_type": "stream",
       "stream": "stdout",
       "text": [
        "\n"
       ]
      }
     ],
     "prompt_number": 7
    },
    {
     "cell_type": "code",
     "collapsed": false,
     "input": [
      "OK = 0\n",
      "for i,d in enumerate(DEMAND):\n",
      "    for j in range(len(shortest_paths[(DEMAND[i].frnd,DEMAND[i].tond)])):\n",
      "        if x[i][j].value() == 1:\n",
      "            OK += 1\n",
      "o_result = OK/NUM_DEMAND"
     ],
     "language": "python",
     "metadata": {},
     "outputs": [],
     "prompt_number": 8
    },
    {
     "cell_type": "heading",
     "level": 3,
     "metadata": {},
     "source": [
      "Shortest Path"
     ]
    },
    {
     "cell_type": "code",
     "collapsed": false,
     "input": [
      "s_result = []\n",
      "for k in range(1,KTH):\n",
      "    OK = 0\n",
      "    clear_weight(G)\n",
      "    DEMAND = []\n",
      "    env = simpy.Environment()\n",
      "    for i, a in enumerate(PAIR):\n",
      "        DEMAND.append(Demand(i,TIMED[i], a[0],a[1], BAND_WIDTH,env,\"PENDING\",k))\n",
      "    env.run(until=TIME)\n",
      "    for d in DEMAND:\n",
      "        if d.status == \"OK\":\n",
      "            OK += 1\n",
      "    s_result.append(OK/300)"
     ],
     "language": "python",
     "metadata": {},
     "outputs": [],
     "prompt_number": 9
    },
    {
     "cell_type": "code",
     "collapsed": false,
     "input": [
      "x = range(1,KTH)\n",
      "title(\"Optimization vs K-thShortest\")\n",
      "xlim(1,14)\n",
      "ylim(0,0.9)\n",
      "xlabel(\"Number of K\")\n",
      "ylabel(\"Service Ratio\")\n",
      "plot(x, s_result, label = \"kth_shortest\")\n",
      "plot(x, [o_result for i in x], label = \"optimization\")\n",
      "legend(loc='lower right')"
     ],
     "language": "python",
     "metadata": {},
     "outputs": [
      {
       "metadata": {},
       "output_type": "pyout",
       "prompt_number": 10,
       "text": [
        "<matplotlib.legend.Legend at 0x86e7a90>"
       ]
      },
      {
       "metadata": {},
       "output_type": "display_data",
       "png": "[encoded data removed]",
       "text": [
        "<matplotlib.figure.Figure at 0x887e390>"
       ]
      }
     ],
     "prompt_number": 10
    }
   ],
   "metadata": {}
  }
 ]
}