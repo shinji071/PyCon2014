{
 "metadata": {
  "name": "",
  "signature": "sha256:f28c13f0a92a36fc0d7d1cee8ac8d35eed0870b113fcc59ecad30645943306b9"
 },
 "nbformat": 3,
 "nbformat_minor": 0,
 "worksheets": [
  {
   "cells": [
    {
     "cell_type": "markdown",
     "metadata": {},
     "source": [
      "##NOTE:\n",
      "* If you are new to python, and don't know much about it, I highly recommend downloaing & installing anaconda.\n",
      "With it, all the programms except \"Optimization\" section can be run without adding any library.\n",
      "\n",
      "* All the codes below are written in Python3.X format, so if you are using python2.X you need to do some modifications"
     ]
    },
    {
     "cell_type": "markdown",
     "metadata": {},
     "source": [
      "#Foreward\n",
      "From this document, you learn the process \"data-collection, analysis and optimization.\"  \n",
      "Based on japanese TV program list in KAKAKU.com, you will learn how to collect, analyze and optimize them.\n",
      "\n",
      "##Who am I?\n",
      "* Name\uff1aShinji Iwaki (@shinji071)\n",
      "* Company\uff1aKozo Keikaku Engineering Inc.\n",
      "  * Operations Research Department\n",
      "* Work: Consultation and Development of software regarding Operations Research, especially optimization.\n",
      "* Python Experience : 1.5 Year\n",
      "* Hobby: Magic & Cycling (In the picture below, I am preparing some magic show after 100km cycling...)\n",
      "\n",
      "<div style=\"float: middle; margin-bottom: 30px; width: 150px\"><img src=\"img/tohoku2.JPG\"></div>\n",
      "\n",
      "##Motivation\n",
      "* Thanks to the conrtibution such as below, you can formulate and solve large-scale problems(LP problem) with ease. However...\n",
      "* If you want to solve a real world's problem and finally want to do some optimization, you also have to be familiar with other phases, such as collecting, parsing and visualizing data.\n",
      "* With python, you can learn and execute all the steps above with ease.\n",
      "    * Also great reason for education; give a student assignments, which starts from data collection. Students can choose any data they like.\n",
      "  \n",
      "<div style=\"float: middle; margin-left: 30px; width: 450px\"><img src=\"img/flow.png\"></div>\n",
      "<div style=\"float: middle; margin-left: 30px; width: 400px\"><img src=\"img/dantzig.png\"></div>\n",
      "<div style=\"float: middle; margin-left: 30px; width: 400px\"><img src=\"img/bixby.png\"></div>\n"
     ]
    },
    {
     "cell_type": "heading",
     "level": 1,
     "metadata": {},
     "source": [
      "Web Page Scraping"
     ]
    },
    {
     "cell_type": "markdown",
     "metadata": {},
     "source": [
      "*Libraries you need for this section*  \n",
      "* bs4 (BeautifulSoup4)  \n",
      "You can install it with \"pip install beautifulsoup4\"\n",
      "* requests  \n",
      "You can install it with \"requests\" \n",
      "* selenium  \n",
      "    * If javascript is embedded to pages, use \"selenium\" to emulate a web browser.\n",
      "    * You also need a web browser driver to run selenium. (i.e. chromedriver.exe for Google browser.)\n",
      "  \n",
      "*The page we are going to scrape*  \n",
      "* http://kakaku.com/tv/"
     ]
    },
    {
     "cell_type": "heading",
     "level": 3,
     "metadata": {},
     "source": [
      "Basic"
     ]
    },
    {
     "cell_type": "markdown",
     "metadata": {},
     "source": [
      "In almost any case, what you have to remember is the follwoing methods.\n",
      "* Create a target url's response object with \"r = requests.get(URL)\".\n",
      "* Create a BeasutifulSoup object with \"soup = BeautifulSoup(r.text)\n",
      "* Extract the information by using soup.find() or soup.find_all().\n",
      "* To get the content of a chosen tag, use .get_text() method."
     ]
    },
    {
     "cell_type": "code",
     "collapsed": false,
     "input": [
      "import datetime\n",
      "import requests\n",
      "from bs4 import BeautifulSoup\n",
      "from collections import defaultdict\n",
      "\n",
      "# Making BeautifulSoup object from the html page\n",
      "html = requests.get(\"http://kakaku.com/tv/channel=4/date=20140902/\")\n",
      "soup = BeautifulSoup(html.text)"
     ],
     "language": "python",
     "metadata": {},
     "outputs": [],
     "prompt_number": 5
    },
    {
     "cell_type": "code",
     "collapsed": false,
     "input": [
      "# Learn how BeautifulSoup methods work...\n",
      "print(\"Point1: soup.find(a)\\n\")\n",
      "print(soup.find(\"a\"))\n",
      "print(\"-------------\")\n",
      "\n",
      "print(\"Point2: soup.find_all(a)\\n\")\n",
      "a = soup.find_all(\"a\")[:3]\n",
      "print(a)\n",
      "print(\"-------------\")\n",
      "\n",
      "print(\"Point3: Tag object has attrs member, from which you can get attribution info.\\n\")\n",
      "print(a[2].attrs.get(\"href\"))\n",
      "print(\"-------------\")\n",
      "\n",
      "print(\"Point4: Using the methods above, you can extract all the links in one page\\n\")\n",
      "links = [link.attrs.get('href') for link in soup.find_all(\"a\")]\n",
      "print(links)\n",
      "print(\"-------------\")\n",
      "\n",
      "print(\"Point5: To get the content of tags, use get_text() method.\\n\")\n",
      "print(soup.find(\"title\").get_text())"
     ],
     "language": "python",
     "metadata": {},
     "outputs": []
    },
    {
     "cell_type": "heading",
     "level": 3,
     "metadata": {},
     "source": [
      "Crawling and Scraping"
     ]
    },
    {
     "cell_type": "markdown",
     "metadata": {},
     "source": [
      "At first, define some parameters to be used. All the data extracted will be contained in OUTPUTS."
     ]
    },
    {
     "cell_type": "code",
     "collapsed": false,
     "input": [
      "CHANNELS = [4,6,8,10,12]           #All channels registered in KAKAKU.com\n",
      "CH_PAGES = defaultdict(dict)       #All the pages of each channel are contained here.\n",
      "OUTPUTS = []                       #One element will hold the attribues: channel, date, date_detail, title and members.\n",
      "BASE_URL = \"http://kakaku.com/tv/channel=%d/date=%s/\"\n",
      "SPAN = datetime.datetime(2008,8,1), datetime.datetime(2014, 6, 14)"
     ],
     "language": "python",
     "metadata": {},
     "outputs": [],
     "prompt_number": 7
    },
    {
     "cell_type": "markdown",
     "metadata": {},
     "source": [
      "Let's create a method which parses a page and adds the parsed information to OUTPUTS."
     ]
    },
    {
     "cell_type": "code",
     "collapsed": false,
     "input": [
      "def add_program_to_outputs(soup,ch,date):\n",
      "    plist = soup.find('div',{'id': 'programlist'})\n",
      "    if plist == None:\n",
      "        print(\"No Program List For (CH: %d, DATE: %s)\" % (ch,date))\n",
      "        return\n",
      "    programs = plist.find_all('tr')\n",
      "    for p in programs:\n",
      "        title_time = p.find_all(\"a\")\n",
      "        title = title_time[0].get_text() #title\n",
      "        date_detail = title_time[1].get_text()  #date\n",
      "        if len(p.get_text().split(\"\u3010\", 1)) == 1:\n",
      "            member = \"None\"\n",
      "        else:\n",
      "            member = p.get_text().split(\"\u3010\", 1)[1].replace(\",\",\";\")\n",
      "        d = defaultdict(str)\n",
      "        d[\"channel\"] = ch\n",
      "        d[\"date\"] = date\n",
      "        d[\"date_detail\"] = date_detail.replace(\",\",\";\")\n",
      "        d[\"title\"] = title.replace(\",\",\";\")\n",
      "        d[\"member\"] = member\n",
      "        OUTPUTS.append(d)"
     ],
     "language": "python",
     "metadata": {},
     "outputs": [],
     "prompt_number": 4
    },
    {
     "cell_type": "markdown",
     "metadata": {},
     "source": [
      "OK, now we are ready for parsing one page and add the information of one page to OUTPUTS.  \n",
      "The next step is to crawl all the pages in the set span.  \n",
      "What we do below is to collect all the urls for the set span."
     ]
    },
    {
     "cell_type": "code",
     "collapsed": false,
     "input": [
      "for ch in CHANNELS:\n",
      "    date = SPAN[0]\n",
      "    while date <= SPAN[1]:\n",
      "        sdate = date.strftime(\"%Y%m%d\")\n",
      "        page = BASE_URL % (ch, sdate)\n",
      "        CH_PAGES[ch][sdate] = page\n",
      "        date += datetime.timedelta(1)"
     ],
     "language": "python",
     "metadata": {},
     "outputs": [],
     "prompt_number": 5
    },
    {
     "cell_type": "markdown",
     "metadata": {},
     "source": [
      "Almost done.  \n",
      "We already have below:  \n",
      "* Method for parsing one page and adding the info. to OUTPUTS. (add_program_to_outputs)  \n",
      "* Dictionary which contains all the urls we want to visit. (CH_PAGES)  \n",
      "\n",
      "The last step is just to combine the both."
     ]
    },
    {
     "cell_type": "code",
     "collapsed": false,
     "input": [
      "for ch, date_url in CH_PAGES.items():\n",
      "    for date, url in date_url.items():\n",
      "        html = requests.get(url)\n",
      "        soup = BeautifulSoup(html.text)\n",
      "        add_program_to_outputs(soup,ch,date)"
     ],
     "language": "python",
     "metadata": {},
     "outputs": []
    },
    {
     "cell_type": "markdown",
     "metadata": {},
     "source": [
      "Finally, write OUTPUTS to csv file.  "
     ]
    },
    {
     "cell_type": "code",
     "collapsed": false,
     "input": [
      "with open(\"output_before_modified.csv\", \"w\", encoding = \"utf-8\") as f:\n",
      "    f.write(\"channel,date,data_detail,title,members\\n\")\n",
      "    for r in OUTPUTS:\n",
      "        f.write(\"%s,%s,%s,%s,%s\\n\" % (r[\"channel\"], r[\"date\"], r[\"date_detail\"], r[\"title\"], r[\"member\"]))"
     ],
     "language": "python",
     "metadata": {},
     "outputs": [],
     "prompt_number": 7
    },
    {
     "cell_type": "markdown",
     "metadata": {},
     "source": [
      "OK, you have competed the data collection phase; let's go to data analysis phase and play around with it."
     ]
    },
    {
     "cell_type": "heading",
     "level": 1,
     "metadata": {},
     "source": [
      "Data Analysis"
     ]
    },
    {
     "cell_type": "markdown",
     "metadata": {},
     "source": [
      "*Libraries you need for this section*  \n",
      "* pandas  \n",
      "You can install it with \"pip install pandas\"\n",
      "* sklearn  \n",
      "You can install it with \"pip install scikit-learn\"  "
     ]
    },
    {
     "cell_type": "heading",
     "level": 4,
     "metadata": {},
     "source": [
      "So,,, at first, let's see who has been deprived of any chance to appear on television"
     ]
    },
    {
     "cell_type": "code",
     "collapsed": false,
     "input": [
      "import pandas as pd\n",
      "# Read the file you have created in data-collection and create data-frame.\n",
      "data = pd.read_csv(\"output.csv\")\n",
      "# With .head() method, you can see the first five rows...\n",
      "data.head()"
     ],
     "language": "python",
     "metadata": {},
     "outputs": [
      {
       "html": [
        "<div style=\"max-height:1000px;max-width:1500px;overflow:auto;\">\n",
        "<table border=\"1\" class=\"dataframe\">\n",
        "  <thead>\n",
        "    <tr style=\"text-align: right;\">\n",
        "      <th></th>\n",
        "      <th>channel</th>\n",
        "      <th>date</th>\n",
        "      <th>data_detail</th>\n",
        "      <th>title</th>\n",
        "      <th>members</th>\n",
        "    </tr>\n",
        "  </thead>\n",
        "  <tbody>\n",
        "    <tr>\n",
        "      <th>0</th>\n",
        "      <td> 4</td>\n",
        "      <td> 20080801</td>\n",
        "      <td>             2008\u5e748\u67081\u65e5\uff08\u91d1\uff0920:00\uff5e20:54</td>\n",
        "      <td>                  \u592a\u7530\u5149\u306e\u79c1\u304c\u7dcf\u7406\u5927\u81e3\u306b\u306a\u3063\u305f\u3089\u2026\u79d8\u66f8\u7530\u4e2d</td>\n",
        "      <td> /\u592a\u7530\u5149\uff08\u7206\u7b11\u554f\u984c\uff09/\u7530\u4e2d\u88d5\u4e8c\uff08\u7206\u7b11\u554f\u984c\uff09/\u5c0f\u6797\u6e05\u5fd7/\u53e4\u5e02\u5e78\u5b50\uff08\u65e5\u672c\u30c6\u30ec\u30d3\uff09/\u68ee\u5bcc\u7f8e\uff08\u65e5\u672c\u30c6...</td>\n",
        "    </tr>\n",
        "    <tr>\n",
        "      <th>1</th>\n",
        "      <td> 4</td>\n",
        "      <td> 20080801</td>\n",
        "      <td>             2008\u5e748\u67081\u65e5\uff08\u91d1\uff0915:25\uff5e15:50</td>\n",
        "      <td>  \u300e\u30b9\u30ab\u30a4\u30fb\u30af\u30ed\u30e9\u300f&amp;\u300e20\u4e16\u7d00\u5c11\u5e74\u300f \u77e5\u3089\u306a\u304d\u3083\u30e4\u30d0\u3044\uff01\u6700\u65b0\u60c5\u5831\u6e80\u8f09SP</td>\n",
        "      <td> /\u9234\u6728\u5d07\u53f8\uff08\u65e5\u672c\u30c6\u30ec\u30d3\uff09/\u8449\u5c71\u30a8\u30ec\u30fc\u30cc\uff08\u65e5\u672c\u30c6\u30ec\u30d3\uff09/\u5c0f\u5009\u6df3/\u83ca\u5730\u51db\u5b50/\u52a0\u702c\u4eae/\u8c37\u539f\u7ae0\u4ecb/\u6817...</td>\n",
        "    </tr>\n",
        "    <tr>\n",
        "      <th>2</th>\n",
        "      <td> 4</td>\n",
        "      <td> 20080801</td>\n",
        "      <td>             2008\u5e748\u67081\u65e5\uff08\u91d1\uff0903:14\uff5e03:44</td>\n",
        "      <td>               \u6c17\u306b\u306a\u308b\u901a\u8ca9\u30e9\u30f3\u30ad\u30f3\u30b0\uff01\u30dd\u30b7\u30e5\u30ec\u30c7\u30d1\u30fc\u30c8\u6df1\u591c\u5e97</td>\n",
        "      <td> /KABA.\u3061\u3083\u3093/\u5c71\u672c\u821e\u8863\u5b50\uff08\u65e5\u672c\u30c6\u30ec\u30d3\uff09/\u85e4\u4e95\u6052\u4e45\uff08\u65e5\u672c\u30c6\u30ec\u30d3\uff09/\u99ac\u5834\u5178\u5b50\uff08\u65e5\u672c\u30c6\u30ec\u30d3\uff09...</td>\n",
        "    </tr>\n",
        "    <tr>\n",
        "      <th>3</th>\n",
        "      <td> 4</td>\n",
        "      <td> 20080801</td>\n",
        "      <td>  \u300e\u7b2c15\u8a71 \u6697\u6bba\u8005\u300f 2008\u5e748\u67081\u65e5\uff08\u91d1\uff0902:19\uff5e03:14</td>\n",
        "      <td>                                \uff28\uff25\uff32\uff2f\uff25\uff33</td>\n",
        "      <td> /\u30bf\u30a6\u30cb\u30fc\u30fb\u30b5\u30a4\u30d7\u30ec\u30b9/\u30ce\u30a2\u30fb\u30b0\u30ec\u30a4\uff1d\u30b1\u30a4\u30d3\u30fc/\u30b0\u30ec\u30c3\u30b0\u30fb\u30b0\u30e9\u30f3\u30d0\u30fc\u30b0/\u30a2\u30ea\u30fb\u30e9\u30fc\u30bf\u30fc/\u30de\u30b7...</td>\n",
        "    </tr>\n",
        "    <tr>\n",
        "      <th>4</th>\n",
        "      <td> 4</td>\n",
        "      <td> 20080801</td>\n",
        "      <td>             2008\u5e748\u67081\u65e5\uff08\u91d1\uff0901:49\uff5e02:19</td>\n",
        "      <td>                             \u30b9\u30fc\u30d1\u30fc\u30c1\u30e3\u30f3\u30d7\u30eb</td>\n",
        "      <td> /ISSA\uff08DAPUMP\uff09/KEN\uff08DAPUMP\uff09/YUKINARI\uff08DAPUMP\uff09/\u9234\u6728\u7d17...</td>\n",
        "    </tr>\n",
        "  </tbody>\n",
        "</table>\n",
        "</div>"
       ],
       "metadata": {},
       "output_type": "pyout",
       "prompt_number": 3,
       "text": [
        "   channel      date                          data_detail  \\\n",
        "0        4  20080801              2008\u5e748\u67081\u65e5\uff08\u91d1\uff0920:00\uff5e20:54   \n",
        "1        4  20080801              2008\u5e748\u67081\u65e5\uff08\u91d1\uff0915:25\uff5e15:50   \n",
        "2        4  20080801              2008\u5e748\u67081\u65e5\uff08\u91d1\uff0903:14\uff5e03:44   \n",
        "3        4  20080801   \u300e\u7b2c15\u8a71 \u6697\u6bba\u8005\u300f 2008\u5e748\u67081\u65e5\uff08\u91d1\uff0902:19\uff5e03:14   \n",
        "4        4  20080801              2008\u5e748\u67081\u65e5\uff08\u91d1\uff0901:49\uff5e02:19   \n",
        "\n",
        "                                   title  \\\n",
        "0                   \u592a\u7530\u5149\u306e\u79c1\u304c\u7dcf\u7406\u5927\u81e3\u306b\u306a\u3063\u305f\u3089\u2026\u79d8\u66f8\u7530\u4e2d   \n",
        "1   \u300e\u30b9\u30ab\u30a4\u30fb\u30af\u30ed\u30e9\u300f&\u300e20\u4e16\u7d00\u5c11\u5e74\u300f \u77e5\u3089\u306a\u304d\u3083\u30e4\u30d0\u3044\uff01\u6700\u65b0\u60c5\u5831\u6e80\u8f09SP   \n",
        "2                \u6c17\u306b\u306a\u308b\u901a\u8ca9\u30e9\u30f3\u30ad\u30f3\u30b0\uff01\u30dd\u30b7\u30e5\u30ec\u30c7\u30d1\u30fc\u30c8\u6df1\u591c\u5e97   \n",
        "3                                 \uff28\uff25\uff32\uff2f\uff25\uff33   \n",
        "4                              \u30b9\u30fc\u30d1\u30fc\u30c1\u30e3\u30f3\u30d7\u30eb   \n",
        "\n",
        "                                             members  \n",
        "0  /\u592a\u7530\u5149\uff08\u7206\u7b11\u554f\u984c\uff09/\u7530\u4e2d\u88d5\u4e8c\uff08\u7206\u7b11\u554f\u984c\uff09/\u5c0f\u6797\u6e05\u5fd7/\u53e4\u5e02\u5e78\u5b50\uff08\u65e5\u672c\u30c6\u30ec\u30d3\uff09/\u68ee\u5bcc\u7f8e\uff08\u65e5\u672c\u30c6...  \n",
        "1  /\u9234\u6728\u5d07\u53f8\uff08\u65e5\u672c\u30c6\u30ec\u30d3\uff09/\u8449\u5c71\u30a8\u30ec\u30fc\u30cc\uff08\u65e5\u672c\u30c6\u30ec\u30d3\uff09/\u5c0f\u5009\u6df3/\u83ca\u5730\u51db\u5b50/\u52a0\u702c\u4eae/\u8c37\u539f\u7ae0\u4ecb/\u6817...  \n",
        "2  /KABA.\u3061\u3083\u3093/\u5c71\u672c\u821e\u8863\u5b50\uff08\u65e5\u672c\u30c6\u30ec\u30d3\uff09/\u85e4\u4e95\u6052\u4e45\uff08\u65e5\u672c\u30c6\u30ec\u30d3\uff09/\u99ac\u5834\u5178\u5b50\uff08\u65e5\u672c\u30c6\u30ec\u30d3\uff09...  \n",
        "3  /\u30bf\u30a6\u30cb\u30fc\u30fb\u30b5\u30a4\u30d7\u30ec\u30b9/\u30ce\u30a2\u30fb\u30b0\u30ec\u30a4\uff1d\u30b1\u30a4\u30d3\u30fc/\u30b0\u30ec\u30c3\u30b0\u30fb\u30b0\u30e9\u30f3\u30d0\u30fc\u30b0/\u30a2\u30ea\u30fb\u30e9\u30fc\u30bf\u30fc/\u30de\u30b7...  \n",
        "4  /ISSA\uff08DAPUMP\uff09/KEN\uff08DAPUMP\uff09/YUKINARI\uff08DAPUMP\uff09/\u9234\u6728\u7d17...  "
       ]
      }
     ],
     "prompt_number": 3
    },
    {
     "cell_type": "code",
     "collapsed": false,
     "input": [
      "#Drop the data_detail column; we don't need it for the analysis below.\n",
      "data = data[[\"date\", \"channel\" ,\"title\", \"members\"]]\n",
      "#Create a new column, which holds the datetime as a type of \"datetype\".\n",
      "data[\"dtime\"] = pd.to_datetime(data.date, format='%Y%m%d')\n",
      "data = data.dropna()\n",
      "#Create a new dataframe, extracting all the rows containing \"\u9ce9\u5c71\u7531\u7d00\u592b\".\n",
      "target = data[data.members.str.contains(\"\u9ce9\u5c71\u7531\u7d00\u592b\")]"
     ],
     "language": "python",
     "metadata": {},
     "outputs": [],
     "prompt_number": 4
    },
    {
     "cell_type": "code",
     "collapsed": false,
     "input": [
      "#t_result : all the channels.\n",
      "#t6_result : TBS\n",
      "#.value_counts(column) returns a Series; how many appearances are counted in a certain day.\n",
      "t_result = pd.value_counts(target.dtime)\n",
      "#resample enables you to aggregate a Series with time; you can specify the span and how you want to aggregate the data.\n",
      "t_result = t_result.resample(\"1m\",how='sum')\n",
      "t_result.name = \"All channels(TBS+Others)\"\n",
      "t6_result = pd.value_counts(target[target.channel == 6].dtime)\n",
      "t6_result = t6_result.resample(\"1m\",how='sum')\n",
      "t6_result.name = \"TBS\"\n",
      "\n",
      "t_result.plot(legend = True, title = \"Monthly Appearance on TV\",fontsize=100)\n",
      "t6_result.plot(legend = True,fontsize=100)\n",
      "print(t_result.mean())\n",
      "print(t_result.std())\n",
      "print(t6_result.mean())\n",
      "print(t6_result.std())"
     ],
     "language": "python",
     "metadata": {},
     "outputs": [
      {
       "output_type": "stream",
       "stream": "stdout",
       "text": [
        "244.548387097\n",
        "337.508897533\n",
        "88.85\n",
        "83.436881281\n"
       ]
      },
      {
       "metadata": {},
       "output_type": "display_data",
       "png": "[encoded data removed]",
       "text": [
        "<matplotlib.figure.Figure at 0x1f2876d8>"
       ]
      }
     ],
     "prompt_number": 5
    },
    {
     "cell_type": "heading",
     "level": 4,
     "metadata": {},
     "source": [
      "Are there any factions in comedy venues??"
     ]
    },
    {
     "cell_type": "code",
     "collapsed": false,
     "input": [
      "import datetime\n",
      "#talents contains some famous japanenese comedians.\n",
      "from talents import talents\n",
      "import pandas as pd\n",
      "\n",
      "def func(row):\n",
      "    if np.sum(row[i] for i in eval_axis) == 0:\n",
      "        return 0\n",
      "    return row[e] / np.sum(row[i] for i in eval_axis)\n",
      "\n",
      "eval_axis = [\"\u3068\u3093\u306d\u308b\u305a\", \"\u30c0\u30a6\u30f3\u30bf\u30a6\u30f3\", \"\u7206\u7b11\u554f\u984c\"] #We assume that all the comedians belong to any of these \n",
      "# talent.csv is created from output.csv. It holds the number of coappearances of two comedians.\n",
      "df = pd.read_csv(\"talents.csv\",index_col=False)\n",
      "df.index = talents\n",
      "# applymap applies a function, this time int(), to each element. Here we are converting all the strs to ints.\n",
      "df = df.applymap(lambda x: int(x))\n",
      "data = []\n",
      "for e in eval_axis:\n",
      "    # apply applies a function to each row. \n",
      "    data.append(df.apply(func))"
     ],
     "language": "python",
     "metadata": {},
     "outputs": [],
     "prompt_number": 6
    },
    {
     "cell_type": "code",
     "collapsed": false,
     "input": [
      "#So we are ready for doing some k-means method.\n",
      "from sklearn import cluster\n",
      "attrs = list(zip(data[0], data[1], data[2]))\n",
      "k = 4\n",
      "kmeans = cluster.KMeans(n_clusters=k)\n",
      "kmeans.fit(attrs)"
     ],
     "language": "python",
     "metadata": {},
     "outputs": [
      {
       "metadata": {},
       "output_type": "pyout",
       "prompt_number": 7,
       "text": [
        "KMeans(copy_x=True, init='k-means++', max_iter=300, n_clusters=4, n_init=10,\n",
        "    n_jobs=1, precompute_distances=True, random_state=None, tol=0.0001,\n",
        "    verbose=0)"
       ]
      }
     ],
     "prompt_number": 7
    },
    {
     "cell_type": "code",
     "collapsed": false,
     "input": [
      "data"
     ],
     "language": "python",
     "metadata": {},
     "outputs": [
      {
       "metadata": {},
       "output_type": "pyout",
       "prompt_number": 8,
       "text": [
        "[\ufeff\u68ee\u7530\u4e00\u7fa9          0.113208\n",
        " \u30d3\u30fc\u30c8\u305f\u3051\u3057         0.421053\n",
        " \u660e\u77f3\u5bb6\u3055\u3093\u307e         0.166667\n",
        " \u6240\u30b8\u30e7\u30fc\u30b8          0.285714\n",
        " \u7b11\u798f\u4ead\u9db4\u74f6          0.207792\n",
        " \u3068\u3093\u306d\u308b\u305a          0.923977\n",
        " \u30c0\u30a6\u30f3\u30bf\u30a6\u30f3         0.002439\n",
        " \u30a6\u30c3\u30c1\u30e3\u30f3\u30ca\u30f3\u30c1\u30e3\u30f3     0.250000\n",
        " \u7206\u7b11\u554f\u984c           0.017341\n",
        " \u3055\u307e\u3041\uff5e\u305a          0.218487\n",
        " \u4eca\u7530\u8015\u53f8           0.181818\n",
        " \u6771\u91ce\u5e78\u6cbb           0.024390\n",
        " \u6c5f\u982d2:50         0.000000\n",
        " \u30cd\u30d7\u30c1\u30e5\u30fc\u30f3         0.000000\n",
        " \u304f\u308a\u3043\u3080\u3057\u3061\u3085\u30fc       0.200000\n",
        " \u96e8\u4e0a\u304c\u308a\u6c7a\u6b7b\u968a        0.000000\n",
        " \u30ca\u30a4\u30f3\u30c6\u30a3\u30ca\u30a4\u30f3       0.320000\n",
        " \u30ad\u30e3\u30a4\uff5e\u30f3          0.138462\n",
        " \u30b3\u30b3\u30ea\u30b3           0.022989\n",
        " \u30aa\u30a2\u30b7\u30ba           0.062500\n",
        " \u3088\u3090\u3053            0.222222\n",
        " \u52a0\u85e4\u6d69\u6b21           0.300000\n",
        " \u5343\u539f\u30b8\u30e5\u30cb\u30a2         0.101562\n",
        " \u30ab\u30f3\u30cb\u30f3\u30b0          0.310345\n",
        " \u571f\u7530\u6643\u4e4b           0.045455\n",
        " \u30b1\u30f3\u30c9\u30fc\u30b3\u30d0\u30e4\u30b7       0.000000\n",
        " \u30ed\u30f3\u30c9\u30f3\u30d6\u30fc\u30c4        0.166667\n",
        " \u30d3\u30d3\u308b\u5927\u6728          0.085106\n",
        " \u30bf\u30ab\u30a2\u30f3\u30c9\u30c8\u30b7        0.059322\n",
        " \u30d6\u30e9\u30c3\u30af\u30de\u30e8\u30cd\u30fc\u30ba      0.000000\n",
        " \u30d5\u30c3\u30c8\u30dc\u30fc\u30eb\u30a2\u30ef\u30fc      0.000000\n",
        " \u30c1\u30e5\u30fc\u30c8\u30ea\u30a2\u30eb        0.000000\n",
        " \u30d0\u30ca\u30ca\u30de\u30f3          0.395522\n",
        " \u304a\u304e\u3084\u306f\u304e          0.549296\n",
        " \u6709\u5409\u5f18\u884c           0.615385\n",
        " \u5c71\u5d0e\u5f18\u4e5f           0.197368\n",
        " \u5287\u56e3\u3072\u3068\u308a          0.077586\n",
        " \u5c0f\u7c54\u5343\u8c4a           0.000000\n",
        " \u30a2\u30f3\u30b8\u30e3\u30c3\u30b7\u30e5        0.022222\n",
        " \u30d0\u30ab\u30ea\u30ba\u30e0          0.000000\n",
        " \u30aa\u30fc\u30c9\u30ea\u30fc          0.000000\n",
        " \u30d4\u30fc\u30b9            0.125000\n",
        " \u5e73\u6210\u30ce\u30d6\u30b7\u30b3\u30d6\u30b7       0.030769\n",
        " \u30a6\u30fc\u30de\u30f3\u30e9\u30c3\u30b7\u30e5\u30a2\u30ef\u30fc    0.000000\n",
        " NON STYLE      0.166667\n",
        " \u5c71\u91cc\u4eae\u592a           0.300000\n",
        " \u30ad\u30f3\u30b0\u30b3\u30f3\u30b0         0.285714\n",
        " \u30c9\u30e9\u30f3\u30af\u30c9\u30e9\u30b4\u30f3       0.041667\n",
        " \u30a4\u30f3\u30d1\u30eb\u30b9          0.000000\n",
        " \u30ed\u30d0\u30fc\u30c8           0.073171\n",
        " \u30a2\u30f3\u30ac\u30fc\u30eb\u30ba         0.028571\n",
        " \u5343\u9ce5             0.000000\n",
        " \u68ee\u4e09\u4e2d            0.047619\n",
        " \u67f3\u539f\u53ef\u5948\u5b50          0.044643\n",
        " \u30cf\u30ea\u30bb\u30f3\u30dc\u30f3         0.031250\n",
        " \u30aa\u30ea\u30a8\u30f3\u30bf\u30eb\u30e9\u30b8\u30aa      0.031915\n",
        " \u72e9\u91ce\u82f1\u5b5d           0.411765\n",
        " \u30cf\u30e9\u30a4\u30c1           0.198113\n",
        " Length: 58, dtype: float64, \ufeff\u68ee\u7530\u4e00\u7fa9          0.004717\n",
        " \u30d3\u30fc\u30c8\u305f\u3051\u3057         0.157895\n",
        " \u660e\u77f3\u5bb6\u3055\u3093\u307e         0.333333\n",
        " \u6240\u30b8\u30e7\u30fc\u30b8          0.000000\n",
        " \u7b11\u798f\u4ead\u9db4\u74f6          0.012987\n",
        " \u3068\u3093\u306d\u308b\u305a          0.005848\n",
        " \u30c0\u30a6\u30f3\u30bf\u30a6\u30f3         0.995122\n",
        " \u30a6\u30c3\u30c1\u30e3\u30f3\u30ca\u30f3\u30c1\u30e3\u30f3     0.250000\n",
        " \u7206\u7b11\u554f\u984c           0.001445\n",
        " \u3055\u307e\u3041\uff5e\u305a          0.252101\n",
        " \u4eca\u7530\u8015\u53f8           0.272727\n",
        " \u6771\u91ce\u5e78\u6cbb           0.902439\n",
        " \u6c5f\u982d2:50         0.500000\n",
        " \u30cd\u30d7\u30c1\u30e5\u30fc\u30f3         0.250000\n",
        " \u304f\u308a\u3043\u3080\u3057\u3061\u3085\u30fc       0.000000\n",
        " \u96e8\u4e0a\u304c\u308a\u6c7a\u6b7b\u968a        0.860465\n",
        " \u30ca\u30a4\u30f3\u30c6\u30a3\u30ca\u30a4\u30f3       0.120000\n",
        " \u30ad\u30e3\u30a4\uff5e\u30f3          0.615385\n",
        " \u30b3\u30b3\u30ea\u30b3           0.954023\n",
        " \u30aa\u30a2\u30b7\u30ba           0.333333\n",
        " \u3088\u3090\u3053            0.407407\n",
        " \u52a0\u85e4\u6d69\u6b21           0.000000\n",
        " \u5343\u539f\u30b8\u30e5\u30cb\u30a2         0.109375\n",
        " \u30ab\u30f3\u30cb\u30f3\u30b0          0.310345\n",
        " \u571f\u7530\u6643\u4e4b           0.181818\n",
        " \u30b1\u30f3\u30c9\u30fc\u30b3\u30d0\u30e4\u30b7       1.000000\n",
        " \u30ed\u30f3\u30c9\u30f3\u30d6\u30fc\u30c4        0.416667\n",
        " \u30d3\u30d3\u308b\u5927\u6728          0.723404\n",
        " \u30bf\u30ab\u30a2\u30f3\u30c9\u30c8\u30b7        0.016949\n",
        " \u30d6\u30e9\u30c3\u30af\u30de\u30e8\u30cd\u30fc\u30ba      0.625000\n",
        " \u30d5\u30c3\u30c8\u30dc\u30fc\u30eb\u30a2\u30ef\u30fc      0.318182\n",
        " \u30c1\u30e5\u30fc\u30c8\u30ea\u30a2\u30eb        0.750000\n",
        " \u30d0\u30ca\u30ca\u30de\u30f3          0.149254\n",
        " \u304a\u304e\u3084\u306f\u304e          0.366197\n",
        " \u6709\u5409\u5f18\u884c           0.128205\n",
        " \u5c71\u5d0e\u5f18\u4e5f           0.026316\n",
        " \u5287\u56e3\u3072\u3068\u308a          0.060345\n",
        " \u5c0f\u7c54\u5343\u8c4a           0.850000\n",
        " \u30a2\u30f3\u30b8\u30e3\u30c3\u30b7\u30e5        0.555556\n",
        " \u30d0\u30ab\u30ea\u30ba\u30e0          0.636364\n",
        " \u30aa\u30fc\u30c9\u30ea\u30fc          0.347826\n",
        " \u30d4\u30fc\u30b9            0.225000\n",
        " \u5e73\u6210\u30ce\u30d6\u30b7\u30b3\u30d6\u30b7       0.153846\n",
        " \u30a6\u30fc\u30de\u30f3\u30e9\u30c3\u30b7\u30e5\u30a2\u30ef\u30fc    0.178571\n",
        " NON STYLE      0.500000\n",
        " \u5c71\u91cc\u4eae\u592a           0.100000\n",
        " \u30ad\u30f3\u30b0\u30b3\u30f3\u30b0         0.571429\n",
        " \u30c9\u30e9\u30f3\u30af\u30c9\u30e9\u30b4\u30f3       0.708333\n",
        " \u30a4\u30f3\u30d1\u30eb\u30b9          0.619048\n",
        " \u30ed\u30d0\u30fc\u30c8           0.463415\n",
        " \u30a2\u30f3\u30ac\u30fc\u30eb\u30ba         0.152381\n",
        " \u5343\u9ce5             0.722222\n",
        " \u68ee\u4e09\u4e2d            0.714286\n",
        " \u67f3\u539f\u53ef\u5948\u5b50          0.044643\n",
        " \u30cf\u30ea\u30bb\u30f3\u30dc\u30f3         0.562500\n",
        " \u30aa\u30ea\u30a8\u30f3\u30bf\u30eb\u30e9\u30b8\u30aa      0.063830\n",
        " \u72e9\u91ce\u82f1\u5b5d           0.352941\n",
        " \u30cf\u30e9\u30a4\u30c1           0.132075\n",
        " Length: 58, dtype: float64, \ufeff\u68ee\u7530\u4e00\u7fa9          0.882075\n",
        " \u30d3\u30fc\u30c8\u305f\u3051\u3057         0.421053\n",
        " \u660e\u77f3\u5bb6\u3055\u3093\u307e         0.500000\n",
        " \u6240\u30b8\u30e7\u30fc\u30b8          0.714286\n",
        " \u7b11\u798f\u4ead\u9db4\u74f6          0.779221\n",
        " \u3068\u3093\u306d\u308b\u305a          0.070175\n",
        " \u30c0\u30a6\u30f3\u30bf\u30a6\u30f3         0.002439\n",
        " \u30a6\u30c3\u30c1\u30e3\u30f3\u30ca\u30f3\u30c1\u30e3\u30f3     0.500000\n",
        " \u7206\u7b11\u554f\u984c           0.981214\n",
        " \u3055\u307e\u3041\uff5e\u305a          0.529412\n",
        " \u4eca\u7530\u8015\u53f8           0.545455\n",
        " \u6771\u91ce\u5e78\u6cbb           0.073171\n",
        " \u6c5f\u982d2:50         0.500000\n",
        " \u30cd\u30d7\u30c1\u30e5\u30fc\u30f3         0.750000\n",
        " \u304f\u308a\u3043\u3080\u3057\u3061\u3085\u30fc       0.800000\n",
        " \u96e8\u4e0a\u304c\u308a\u6c7a\u6b7b\u968a        0.139535\n",
        " \u30ca\u30a4\u30f3\u30c6\u30a3\u30ca\u30a4\u30f3       0.560000\n",
        " \u30ad\u30e3\u30a4\uff5e\u30f3          0.246154\n",
        " \u30b3\u30b3\u30ea\u30b3           0.022989\n",
        " \u30aa\u30a2\u30b7\u30ba           0.604167\n",
        " \u3088\u3090\u3053            0.370370\n",
        " \u52a0\u85e4\u6d69\u6b21           0.700000\n",
        " \u5343\u539f\u30b8\u30e5\u30cb\u30a2         0.789062\n",
        " \u30ab\u30f3\u30cb\u30f3\u30b0          0.379310\n",
        " \u571f\u7530\u6643\u4e4b           0.772727\n",
        " \u30b1\u30f3\u30c9\u30fc\u30b3\u30d0\u30e4\u30b7       0.000000\n",
        " \u30ed\u30f3\u30c9\u30f3\u30d6\u30fc\u30c4        0.416667\n",
        " \u30d3\u30d3\u308b\u5927\u6728          0.191489\n",
        " \u30bf\u30ab\u30a2\u30f3\u30c9\u30c8\u30b7        0.923729\n",
        " \u30d6\u30e9\u30c3\u30af\u30de\u30e8\u30cd\u30fc\u30ba      0.375000\n",
        " \u30d5\u30c3\u30c8\u30dc\u30fc\u30eb\u30a2\u30ef\u30fc      0.681818\n",
        " \u30c1\u30e5\u30fc\u30c8\u30ea\u30a2\u30eb        0.250000\n",
        " \u30d0\u30ca\u30ca\u30de\u30f3          0.455224\n",
        " \u304a\u304e\u3084\u306f\u304e          0.084507\n",
        " \u6709\u5409\u5f18\u884c           0.256410\n",
        " \u5c71\u5d0e\u5f18\u4e5f           0.776316\n",
        " \u5287\u56e3\u3072\u3068\u308a          0.862069\n",
        " \u5c0f\u7c54\u5343\u8c4a           0.150000\n",
        " \u30a2\u30f3\u30b8\u30e3\u30c3\u30b7\u30e5        0.422222\n",
        " \u30d0\u30ab\u30ea\u30ba\u30e0          0.363636\n",
        " \u30aa\u30fc\u30c9\u30ea\u30fc          0.652174\n",
        " \u30d4\u30fc\u30b9            0.650000\n",
        " \u5e73\u6210\u30ce\u30d6\u30b7\u30b3\u30d6\u30b7       0.815385\n",
        " \u30a6\u30fc\u30de\u30f3\u30e9\u30c3\u30b7\u30e5\u30a2\u30ef\u30fc    0.821429\n",
        " NON STYLE      0.333333\n",
        " \u5c71\u91cc\u4eae\u592a           0.600000\n",
        " \u30ad\u30f3\u30b0\u30b3\u30f3\u30b0         0.142857\n",
        " \u30c9\u30e9\u30f3\u30af\u30c9\u30e9\u30b4\u30f3       0.250000\n",
        " \u30a4\u30f3\u30d1\u30eb\u30b9          0.380952\n",
        " \u30ed\u30d0\u30fc\u30c8           0.463415\n",
        " \u30a2\u30f3\u30ac\u30fc\u30eb\u30ba         0.819048\n",
        " \u5343\u9ce5             0.277778\n",
        " \u68ee\u4e09\u4e2d            0.238095\n",
        " \u67f3\u539f\u53ef\u5948\u5b50          0.910714\n",
        " \u30cf\u30ea\u30bb\u30f3\u30dc\u30f3         0.406250\n",
        " \u30aa\u30ea\u30a8\u30f3\u30bf\u30eb\u30e9\u30b8\u30aa      0.904255\n",
        " \u72e9\u91ce\u82f1\u5b5d           0.235294\n",
        " \u30cf\u30e9\u30a4\u30c1           0.669811\n",
        " Length: 58, dtype: float64]"
       ]
      }
     ],
     "prompt_number": 8
    },
    {
     "cell_type": "code",
     "collapsed": false,
     "input": [
      "from collections import defaultdict\n",
      "group = kmeans.labels_[:]\n",
      "mappings = defaultdict(list)\n",
      "category = set(group)\n",
      "for c in category:\n",
      "    x,y,z = [],[],[]\n",
      "    for e_ax in eval_axis:\n",
      "        if group[talents.index(e_ax)] == c:\n",
      "            key = e_ax\n",
      "            print(\"\u6d3e\u95a5: \" + e_ax)\n",
      "            break\n",
      "    else:\n",
      "        key = \"None\"\n",
      "        print(\"\u6d3e\u95a5: NONE\")\n",
      "    for talent in talents:\n",
      "        if group[talents.index(talent)] == c:\n",
      "            print(talent)\n",
      "            x.append(attrs[talents.index(talent)][0])\n",
      "            y.append(attrs[talents.index(talent)][1])\n",
      "            z.append(attrs[talents.index(talent)][2])\n",
      "    print(\"-------------------------------------------------------\")\n",
      "    mappings[key] = [x,y,z]\n",
      "\n",
      "c=[\"r\", \"b\", \"y\", \"w\", \"g\"]\n",
      "figsize(10,6)\n",
      "for i, (key,cm) in enumerate(mappings.items()):\n",
      "    x2d = cm[0]\n",
      "    y2d = cm[1]\n",
      "    fp=matplotlib.font_manager.FontProperties(fname=r\"C:\\Windows\\Fonts\\msgothic.ttc\")\n",
      "    scatter(x2d, y2d, c=c[i], label=key, s = 60)\n",
      "    legend(prop=fp)"
     ],
     "language": "python",
     "metadata": {},
     "outputs": [
      {
       "output_type": "stream",
       "stream": "stdout",
       "text": [
        "\u6d3e\u95a5: \u30c0\u30a6\u30f3\u30bf\u30a6\u30f3\n",
        "\u30c0\u30a6\u30f3\u30bf\u30a6\u30f3\n",
        "\u6771\u91ce\u5e78\u6cbb\n",
        "\u96e8\u4e0a\u304c\u308a\u6c7a\u6b7b\u968a\n",
        "\u30ad\u30e3\u30a4\uff5e\u30f3\n",
        "\u30b3\u30b3\u30ea\u30b3\n",
        "\u30b1\u30f3\u30c9\u30fc\u30b3\u30d0\u30e4\u30b7\n",
        "\u30d3\u30d3\u308b\u5927\u6728\n",
        "\u30d6\u30e9\u30c3\u30af\u30de\u30e8\u30cd\u30fc\u30ba\n",
        "\u30c1\u30e5\u30fc\u30c8\u30ea\u30a2\u30eb\n",
        "\u5c0f\u7c54\u5343\u8c4a\n",
        "\u30d0\u30ab\u30ea\u30ba\u30e0\n",
        "\u30ad\u30f3\u30b0\u30b3\u30f3\u30b0\n",
        "\u30c9\u30e9\u30f3\u30af\u30c9\u30e9\u30b4\u30f3\n",
        "\u30a4\u30f3\u30d1\u30eb\u30b9\n",
        "\u5343\u9ce5\n",
        "\u68ee\u4e09\u4e2d\n",
        "-------------------------------------------------------\n",
        "\u6d3e\u95a5: NONE\n",
        "\u660e\u77f3\u5bb6\u3055\u3093\u307e\n",
        "\u30a6\u30c3\u30c1\u30e3\u30f3\u30ca\u30f3\u30c1\u30e3\u30f3\n",
        "\u3055\u307e\u3041\uff5e\u305a\n",
        "\u4eca\u7530\u8015\u53f8\n",
        "\u6c5f\u982d2:50\n",
        "\u30aa\u30a2\u30b7\u30ba\n",
        "\u3088\u3090\u3053\n",
        "\u30ab\u30f3\u30cb\u30f3\u30b0\n",
        "\u30ed\u30f3\u30c9\u30f3\u30d6\u30fc\u30c4\n",
        "\u30d5\u30c3\u30c8\u30dc\u30fc\u30eb\u30a2\u30ef\u30fc\n",
        "\u30a2\u30f3\u30b8\u30e3\u30c3\u30b7\u30e5\n",
        "\u30aa\u30fc\u30c9\u30ea\u30fc\n",
        "NON STYLE\n",
        "\u30ed\u30d0\u30fc\u30c8\n",
        "\u30cf\u30ea\u30bb\u30f3\u30dc\u30f3\n",
        "-------------------------------------------------------\n",
        "\u6d3e\u95a5: \u7206\u7b11\u554f\u984c\n",
        "\u68ee\u7530\u4e00\u7fa9\n",
        "\u6240\u30b8\u30e7\u30fc\u30b8\n",
        "\u7b11\u798f\u4ead\u9db4\u74f6\n",
        "\u7206\u7b11\u554f\u984c\n",
        "\u30cd\u30d7\u30c1\u30e5\u30fc\u30f3\n",
        "\u304f\u308a\u3043\u3080\u3057\u3061\u3085\u30fc\n",
        "\u30ca\u30a4\u30f3\u30c6\u30a3\u30ca\u30a4\u30f3\n",
        "\u52a0\u85e4\u6d69\u6b21\n",
        "\u5343\u539f\u30b8\u30e5\u30cb\u30a2\n",
        "\u571f\u7530\u6643\u4e4b\n",
        "\u30bf\u30ab\u30a2\u30f3\u30c9\u30c8\u30b7\n",
        "\u5c71\u5d0e\u5f18\u4e5f\n",
        "\u5287\u56e3\u3072\u3068\u308a\n",
        "\u30d4\u30fc\u30b9\n",
        "\u5e73\u6210\u30ce\u30d6\u30b7\u30b3\u30d6\u30b7\n",
        "\u30a6\u30fc\u30de\u30f3\u30e9\u30c3\u30b7\u30e5\u30a2\u30ef\u30fc\n",
        "\u5c71\u91cc\u4eae\u592a\n",
        "\u30a2\u30f3\u30ac\u30fc\u30eb\u30ba\n",
        "\u67f3\u539f\u53ef\u5948\u5b50\n",
        "\u30aa\u30ea\u30a8\u30f3\u30bf\u30eb\u30e9\u30b8\u30aa\n",
        "\u30cf\u30e9\u30a4\u30c1\n",
        "-------------------------------------------------------\n",
        "\u6d3e\u95a5: \u3068\u3093\u306d\u308b\u305a\n",
        "\u30d3\u30fc\u30c8\u305f\u3051\u3057\n",
        "\u3068\u3093\u306d\u308b\u305a\n",
        "\u30d0\u30ca\u30ca\u30de\u30f3\n",
        "\u304a\u304e\u3084\u306f\u304e\n",
        "\u6709\u5409\u5f18\u884c\n",
        "\u72e9\u91ce\u82f1\u5b5d\n",
        "-------------------------------------------------------\n"
       ]
      },
      {
       "metadata": {},
       "output_type": "display_data",
       "png": "[encoded data removed]",
       "text": [
        "<matplotlib.figure.Figure at 0x8f95080>"
       ]
      }
     ],
     "prompt_number": 18
    },
    {
     "cell_type": "heading",
     "level": 1,
     "metadata": {},
     "source": [
      "Optimization"
     ]
    },
    {
     "cell_type": "markdown",
     "metadata": {},
     "source": [
      "*Libraries you need for this section*  \n",
      "* pulp    \n",
      "You can install it with \"pip install pulp\""
     ]
    },
    {
     "cell_type": "heading",
     "level": 2,
     "metadata": {},
     "source": [
      "BASIC -Solving knapsack problem-"
     ]
    },
    {
     "cell_type": "markdown",
     "metadata": {},
     "source": [
      "####What's kanpsack problem?\n",
      "The knapsack problem or rucksack problem is a problem in combinatorial optimization: Given a set of items, each with a mass and a value, determine the number of each item to include in a collection so that the total weight is less than or equal to a given limit and the total value is as large as possible.  \n",
      "(defeined in Wikipedia)  \n",
      "\n",
      "Example:  \n",
      "\n",
      "* There are several files with different size.\n",
      "* What you want to achieve is to write these files to CD as much as possible.\n",
      "\n",
      "####Formulation of knapsack problem\n",
      "\\begin{array}{cl}\n",
      "\\max & \\sum_i{s_i \\ v_i} \\\\\n",
      "\\mbox{subject to} & \\sum_i{s_i \\ v_i} \\leq C \\\\\n",
      "                 & v_i \\in \\{0, 1\\} ~ \\forall i\n",
      "\\end{array}"
     ]
    },
    {
     "cell_type": "code",
     "collapsed": false,
     "input": [
      "from pulp import *\n",
      "# Files(with sizes)\n",
      "s = [128, 108, 34, 53, 71, 224, 299, 181, 336, 15]\n",
      "# CD-R size\n",
      "C = 600\n",
      "rn = range(len(s))\n",
      "# Define a problem\n",
      "m = LpProblem('knapsack', LpMaximize)\n",
      "# Define variables\n",
      "# v[i] only takes a value 0 or 1; 0 means the file not to be written and 1 to be written.\n",
      "v = [LpVariable('v%d' % i, cat = LpBinary) for i in rn]\n",
      "# Objective function\n",
      "m += lpDot(s, v)\n",
      "# constraints\n",
      "m += lpDot(s, v) <= C"
     ],
     "language": "python",
     "metadata": {},
     "outputs": [],
     "prompt_number": 19
    },
    {
     "cell_type": "code",
     "collapsed": false,
     "input": [
      "# Solve the problem\n",
      "m.solve()\n",
      "# Output\n",
      "print(LpStatus[m.status], sum(s[i] * value(v[i]) for i in rn))\n",
      "print([s[i] for i in rn if value(v[i]) > 0.5])"
     ],
     "language": "python",
     "metadata": {},
     "outputs": [
      {
       "output_type": "stream",
       "stream": "stdout",
       "text": [
        "Optimal 600.0\n",
        "[108, 34, 53, 224, 181]\n"
       ]
      }
     ],
     "prompt_number": 20
    },
    {
     "cell_type": "markdown",
     "metadata": {},
     "source": [
      "OK, at the end, you have learned how to scrape&parse web pages, analyze them and some optimization techniques.  \n",
      "Actually I wanted to apply some optimization to TV-Program List, but couldn't come up with a good idea; this will be my next task...  \n",
      "If you are interested in Simulation and Optimization, see the project \"Network Simulation & Optimization\". I didn't write any explanation there, but it may someway be useful to you.  \n",
      "Also, if you want to learn networkX basics, see the project \"NetworkX Basic\". It's written in Japanese. If you are interested in Simpy basics, see the poject \"Simpy Basic\"; it's still under construction..."
     ]
    },
    {
     "cell_type": "markdown",
     "metadata": {},
     "source": [
      "[Network Simualtion & Optimization](Network Simualtion & Optimization.ipynb)  \n",
      "[NetworkX Basic](NetworkX Basic.ipynb)  \n",
      "[Simpy Basic](Simpy Basic.ipynb)"
     ]
    },
    {
     "cell_type": "heading",
     "level": 1,
     "metadata": {},
     "source": [
      "--Bonus--"
     ]
    },
    {
     "cell_type": "markdown",
     "metadata": {},
     "source": [
      "If you are doing the process above not for your job, but for your hobby, why not let everyone in the world know your achievments?  \n",
      "To do so, interactive web application will be the best way!!\n",
      "D3.js is one of the most popular tool for interactive-visualization application, but if you want to create something original... processing.js is recommended."
     ]
    },
    {
     "cell_type": "markdown",
     "metadata": {},
     "source": [
      "[processing.js](http://processingjs.org/)\n",
      "<div style=\"float: middle; margin-left: 30px; width: 450px\"><img src=\"img/processing.png\"></div>"
     ]
    },
    {
     "cell_type": "code",
     "collapsed": false,
     "input": [
      "import pandas as pd\n",
      "a = pd.DataFrame([[2,3,4],[1,2,3]])"
     ],
     "language": "python",
     "metadata": {},
     "outputs": [],
     "prompt_number": 2
    }
   ],
   "metadata": {}
  }
 ]
}