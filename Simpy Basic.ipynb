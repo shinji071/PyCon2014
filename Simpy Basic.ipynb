{
 "metadata": {
  "name": "",
  "signature": "sha256:6d74f95fe758a9a5727c683313fcb9f5ac6effc02c834ea075388f48a6a30c5e"
 },
 "nbformat": 3,
 "nbformat_minor": 0,
 "worksheets": [
  {
   "cells": [
    {
     "cell_type": "markdown",
     "metadata": {},
     "source": [
      "This page is still under construction..."
     ]
    },
    {
     "cell_type": "heading",
     "level": 3,
     "metadata": {},
     "source": [
      "Basic1"
     ]
    },
    {
     "cell_type": "code",
     "collapsed": false,
     "input": [
      "import simpy\n",
      "\n",
      "def clock(env, name, tick):\n",
      "    while True:\n",
      "        print(name, env.now)\n",
      "        yield env.timeout(tick)\n",
      "        \n",
      "env = simpy.Environment()\n",
      "env.process(clock(env, \"fast\", 0.5))\n",
      "env.process(clock(env, \"slow\", 1))\n",
      "env.run(until=2)"
     ],
     "language": "python",
     "metadata": {},
     "outputs": [
      {
       "output_type": "stream",
       "stream": "stdout",
       "text": [
        "fast 0\n",
        "slow 0\n",
        "fast 0.5\n",
        "slow 1\n",
        "fast 1.0\n",
        "fast 1.5\n"
       ]
      }
     ],
     "prompt_number": 2
    },
    {
     "cell_type": "heading",
     "level": 3,
     "metadata": {},
     "source": [
      "Basic2"
     ]
    },
    {
     "cell_type": "code",
     "collapsed": false,
     "input": [
      "def car(env):\n",
      "    while True:\n",
      "        print(\"start parking at %d\" % env.now)\n",
      "        parking_duration = 5\n",
      "        yield env.timeout(parking_duration)\n",
      "        \n",
      "        print(\"start driving at %d\" % env.now)\n",
      "        trip_duration = 2\n",
      "        yield env.timeout(trip_duration)\n",
      "\n",
      "env = simpy.Environment()\n",
      "env.process(car(env))\n",
      "env.run(until=15)"
     ],
     "language": "python",
     "metadata": {},
     "outputs": [
      {
       "output_type": "stream",
       "stream": "stdout",
       "text": [
        "start parking at 0\n",
        "start driving at 5\n",
        "start parking at 7\n",
        "start driving at 12\n",
        "start parking at 14\n"
       ]
      }
     ],
     "prompt_number": 3
    },
    {
     "cell_type": "heading",
     "level": 3,
     "metadata": {},
     "source": [
      "Basic3 (Interrupt Processes)"
     ]
    },
    {
     "cell_type": "code",
     "collapsed": false,
     "input": [
      "#Interupt\n",
      "class Car(object):\n",
      "    def __init__(self, env):\n",
      "        self.env = env\n",
      "        self.action = env.process(self.run())\n",
      "    \n",
      "    def run(self):\n",
      "        while True:\n",
      "            print(\"start parking at %d\" % env.now)\n",
      "            charge_duration = 5\n",
      "            try:\n",
      "                yield self.env.process(self.charge(charge_duration))\n",
      "            except simpy.Interrupt:\n",
      "                print(\"Was interrupted...\")\n",
      "            \n",
      "            print(\"start driving at %d\" % env.now)\n",
      "            trip_duration = 2\n",
      "            yield self.env.timeout(trip_duration)\n",
      "            \n",
      "    def charge(self, duration):\n",
      "        yield self.env.timeout(duration)\n",
      "    \n",
      "def driver(env, car):\n",
      "    yield env.timeout(3)\n",
      "    car.action.interrupt()\n",
      "    \n",
      "env = simpy.Environment()\n",
      "car = Car(env)\n",
      "env.process(driver(env, car))\n",
      "env.run(until=15)"
     ],
     "language": "python",
     "metadata": {},
     "outputs": [
      {
       "output_type": "stream",
       "stream": "stdout",
       "text": [
        "start parking at 0\n",
        "Was interrupted...\n",
        "start driving at 3\n",
        "start parking at 5\n",
        "start driving at 10\n",
        "start parking at 12\n"
       ]
      }
     ],
     "prompt_number": 4
    },
    {
     "cell_type": "heading",
     "level": 3,
     "metadata": {},
     "source": [
      "Basic4 (Resource)"
     ]
    },
    {
     "cell_type": "code",
     "collapsed": false,
     "input": [
      "#Resource\n",
      "class Car(object):\n",
      "    def __init__(self, env, charger, name):\n",
      "        self.env = env\n",
      "        self.charger = charger\n",
      "        self.name = name\n",
      "        self.action = env.process(self.run())\n",
      "    \n",
      "    def run(self):\n",
      "        while True:\n",
      "            print(\"%s starts parking at %d\" % (self.name,env.now))\n",
      "            charge_duration = 5\n",
      "            with charger.request() as req:\n",
      "                yield req\n",
      "                yield self.env.timeout(charge_duration)\n",
      "            \n",
      "            print(\"%s starts driving at %d\" % (self.name,env.now))\n",
      "            trip_duration = 2\n",
      "            yield self.env.timeout(trip_duration)\n",
      "\n",
      "    \n",
      "env = simpy.Environment()\n",
      "charger = simpy.Resource(env,capacity=1)\n",
      "car1 = Car(env,charger,\"car1\")\n",
      "car2 = Car(env,charger,\"car2\")\n",
      "env.run(until=15)"
     ],
     "language": "python",
     "metadata": {},
     "outputs": [
      {
       "output_type": "stream",
       "stream": "stdout",
       "text": [
        "car1 starts parking at 0\n",
        "car2 starts parking at 0\n",
        "car1 starts driving at 5\n",
        "car1 starts parking at 7\n",
        "car2 starts driving at 10\n",
        "car2 starts parking at 12\n"
       ]
      }
     ],
     "prompt_number": 5
    }
   ],
   "metadata": {}
  }
 ]
}